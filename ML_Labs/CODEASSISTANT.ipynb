{
 "cells": [
  {
   "cell_type": "markdown",
   "metadata": {},
   "source": [
    "# Data Cleaning"
   ]
  },
  {
   "cell_type": "code",
   "execution_count": null,
   "metadata": {},
   "outputs": [],
   "source": [
    "#checking null values\n",
    "df.isnull().sum()"
   ]
  },
  {
   "cell_type": "code",
   "execution_count": null,
   "metadata": {},
   "outputs": [],
   "source": [
    "# taking the mean of the column to fill the null valus in the data set\n",
    "mean = df[\"total_bedrooms\"].mean()"
   ]
  },
  {
   "cell_type": "code",
   "execution_count": null,
   "metadata": {},
   "outputs": [],
   "source": [
    "# replacing the null values with the mean of that column.\n",
    "df[\"total_bedrooms\"] = df[\"total_bedrooms\"].fillna(mean)"
   ]
  },
  {
   "cell_type": "code",
   "execution_count": null,
   "metadata": {},
   "outputs": [],
   "source": [
    "#checking missing values\n",
    "missing=df.dropna(inplace = True)\n",
    "print(missing)"
   ]
  },
  {
   "cell_type": "code",
   "execution_count": null,
   "metadata": {},
   "outputs": [],
   "source": [
    "#checking duplicate values\n",
    "dup=df.drop_duplicates(inplace = True)\n",
    "print(dup)"
   ]
  },
  {
   "cell_type": "code",
   "execution_count": null,
   "metadata": {},
   "outputs": [],
   "source": [
    "#number of unique values in each column\n",
    "df.nunique()\n"
   ]
  },
  {
   "cell_type": "code",
   "execution_count": null,
   "metadata": {},
   "outputs": [],
   "source": [
    "# This code drops the columns \"ID\", \"symboling\", and \"name\" which are not necessary for prediction\n",
    "df.drop([\"ID\", \"symboling\", \"name\",], axis=1, inplace=True)\n",
    "\n",
    "df"
   ]
  },
  {
   "cell_type": "markdown",
   "metadata": {},
   "source": [
    "# to create a new column \n",
    "describe cheythu cloumn thinte min,max manasilaki athu vachu ayne value low,mid,max  category aaki thirichu new column create aakanu"
   ]
  },
  {
   "cell_type": "code",
   "execution_count": null,
   "metadata": {},
   "outputs": [],
   "source": [
    "df['nAvgBed']=0\n",
    "df.head()"
   ]
  },
  {
   "cell_type": "code",
   "execution_count": null,
   "metadata": {},
   "outputs": [],
   "source": [
    "df1.loc[df['AveRooms']<50,'nAvgBed']='low'\n",
    "df1.loc[df['AveRooms']>=50,'nAvgBed']='median'\n",
    "df1.loc[df['AveRooms']>=100,'nAvgBed']='max'\n"
   ]
  },
  {
   "cell_type": "markdown",
   "metadata": {},
   "source": [
    "# To change categorical to numerical\n"
   ]
  },
  {
   "cell_type": "code",
   "execution_count": null,
   "metadata": {},
   "outputs": [],
   "source": [
    "d = {'UK': 0, 'USA': 1, 'N': 2}\n",
    "df['Nationality'] = df['Nationality'].map(d)\n",
    "d = {'YES': 1, 'NO': 0}\n",
    "df['Go'] = df['Go'].map(d)"
   ]
  },
  {
   "cell_type": "markdown",
   "metadata": {},
   "source": [
    "another way of mapping a column in single line code"
   ]
  },
  {
   "cell_type": "code",
   "execution_count": null,
   "metadata": {},
   "outputs": [],
   "source": [
    "data['ocean_proximity'] = data['ocean_proximity'].map({'NEAR BAY':0,'<1H OCEAN':1,'INLAND':2,'NEAR OCEAN':3,'ISLAND':4})"
   ]
  },
  {
   "cell_type": "markdown",
   "metadata": {},
   "source": [
    "To change a specific colum to numerical"
   ]
  },
  {
   "cell_type": "code",
   "execution_count": null,
   "metadata": {},
   "outputs": [],
   "source": [
    "# encoding the column\n",
    "for i in range(len(df[\"ocean_proximity\"].unique())):\n",
    "    df[\"ocean_proximity\"] = df[\"ocean_proximity\"].replace(df[\"ocean_proximity\"].unique()[i],i)\n",
    "    "
   ]
  },
  {
   "cell_type": "markdown",
   "metadata": {},
   "source": [
    "To change all the categorical columns to numerical"
   ]
  },
  {
   "cell_type": "code",
   "execution_count": null,
   "metadata": {},
   "outputs": [],
   "source": [
    "# retrieves the column labels \n",
    "df.columns"
   ]
  },
  {
   "cell_type": "code",
   "execution_count": null,
   "metadata": {},
   "outputs": [],
   "source": [
    "# Find columns with datatype 'object'\n",
    "df.describe(include='object')"
   ]
  },
  {
   "cell_type": "code",
   "execution_count": null,
   "metadata": {},
   "outputs": [],
   "source": [
    "# # Specify the categorical columns to be converted\n",
    "# categorical_columns = ['fueltypes',aspiration', 'doornumbers', 'carbody', 'drivewheels', 'enginelocation', 'enginetype', 'cylindernumber', 'fuelsystem']\n",
    "\n",
    "\n",
    "for column in df.columns:\n",
    "    if str(df[column].dtype) == \"object\":\n",
    "        for i in range(len(df[column].unique())):\n",
    "            df[column] = df[column].replace(df[column].unique()[i],i)\n",
    "\n",
    "df"
   ]
  },
  {
   "cell_type": "markdown",
   "metadata": {},
   "source": [
    "# To standardise\n"
   ]
  },
  {
   "cell_type": "markdown",
   "metadata": {},
   "source": [
    "check pca lab of naveen for more refernce"
   ]
  },
  {
   "cell_type": "code",
   "execution_count": null,
   "metadata": {},
   "outputs": [],
   "source": [
    "Xla_mean = Xla.mean()\n",
    "Xla_std = Xla.std()\n",
    "\n",
    "#Standardization\n",
    "Data = (Xla - Xla_mean)/Xla_std\n",
    "print(Data)"
   ]
  },
  {
   "cell_type": "code",
   "execution_count": null,
   "metadata": {},
   "outputs": [],
   "source": [
    "# whole data values standard aakan\n",
    "\n",
    "from sklearn.preprocessing import StandardScaler\n",
    "\n",
    "scaler = StandardScaler()\n",
    "scaled_data = scaler.fit_transform(df)\n",
    "\n",
    "new_df = pd.DataFrame(scaled_data, columns=df.columns)\n",
    "new_df"
   ]
  },
  {
   "cell_type": "markdown",
   "metadata": {},
   "source": [
    "# visualization\n"
   ]
  },
  {
   "cell_type": "markdown",
   "metadata": {},
   "source": [
    "outlier kalanju visualize cheyana method, chnage the cloumn name accordingly"
   ]
  },
  {
   "cell_type": "code",
   "execution_count": null,
   "metadata": {},
   "outputs": [],
   "source": [
    "# continuous box plot before removing outliers\n",
    "sns.boxplot(df.price, color='red', orient ='h')\n",
    "plt.title('Boxplot:price')"
   ]
  },
  {
   "cell_type": "code",
   "execution_count": null,
   "metadata": {},
   "outputs": [],
   "source": [
    "# remove Outlier \n",
    "print(df.shape)\n",
    "Q1 = df['price'].quantile(0.25)\n",
    "Q3 = df['price'].quantile(0.75)\n",
    "IQR = Q3 - Q1\n",
    "df = df[~((df['price'] < (Q1 - 1.5 * IQR))|(df['price'] > (Q3 + 1.5*IQR)))]\n",
    "print(df.shape)\n",
    "sns.distplot(df['price'])"
   ]
  },
  {
   "cell_type": "code",
   "execution_count": null,
   "metadata": {},
   "outputs": [],
   "source": [
    "# continuous box plot after removing outliers\n",
    "sns.boxplot(df.price, color='red', orient ='h')\n",
    "plt.title('Boxplot:price')"
   ]
  },
  {
   "cell_type": "markdown",
   "metadata": {},
   "source": [
    "variables seperate chart aayi histogram cheyan illa code, change variable names accordingly"
   ]
  },
  {
   "cell_type": "code",
   "execution_count": null,
   "metadata": {},
   "outputs": [],
   "source": [
    "columns = ['longitude', 'latitude', 'housing_median_age', 'total_rooms',\n",
    "       'total_bedrooms', 'population', 'households', 'median_income',\n",
    "       'median_house_value']\n",
    "\n",
    "for column in data.columns:\n",
    "    plt.figure(figsize=(8, 6))\n",
    "    plt.hist(data[column], bins=30, edgecolor='black', alpha=0.7)\n",
    "    plt.xlabel(column)  \n",
    "    plt.ylabel('Frequency')  \n",
    "    plt.title(f'Histogram of {column}') \n",
    "    plt.show() "
   ]
  },
  {
   "cell_type": "markdown",
   "metadata": {},
   "source": [
    "heatmap  code"
   ]
  },
  {
   "cell_type": "code",
   "execution_count": null,
   "metadata": {},
   "outputs": [],
   "source": [
    "# Generate a heatmap to visualize the correlation matrix\n",
    "numeric_columns = df.select_dtypes(include=[np.number]).columns\n",
    "numeric_df = df[numeric_columns]\n",
    "correlation_matrix = numeric_df.corr()\n",
    "plt.figure(figsize=(8, 6))\n",
    "sns.heatmap(correlation_matrix, annot=True, cmap='coolwarm', fmt='.2f', linewidths=0.5)\n",
    "plt.show()"
   ]
  },
  {
   "cell_type": "markdown",
   "metadata": {},
   "source": [
    "train and test evaluation"
   ]
  },
  {
   "cell_type": "code",
   "execution_count": null,
   "metadata": {},
   "outputs": [],
   "source": [
    "# Making predictions on the training set\n",
    "y_pred_train = rf_model.predict(X_train)\n",
    "\n",
    "# Evaluating the model performance on the training set\n",
    "mse_train = mean_squared_error(y_train, y_pred_train)\n",
    "r2_train = r2_score(y_train, y_pred_train)\n",
    "\n",
    "# Printing the evaluation metrics for the training set\n",
    "print(\"Mean Squared Error on Training Set is \", mse_train)\n",
    "print(\"R squared value on Training Set is \", r2_train)"
   ]
  },
  {
   "cell_type": "markdown",
   "metadata": {},
   "source": [
    "train nte visualization"
   ]
  },
  {
   "cell_type": "code",
   "execution_count": null,
   "metadata": {},
   "outputs": [],
   "source": [
    "#Visualizing the Train Set Predictions\n",
    "# Plotting the actual vs predicted values for the training set\n",
    "plt.scatter(y_train, y_pred_train, color='yellow')\n",
    "plt.plot([min(y_train), max(y_train)], [min(y_train), max(y_train)], color=\"red\")\n",
    "\n",
    "plt.ylabel('Predicted Values')\n",
    "plt.xlabel('Actual Values')\n",
    "plt.title('Predicted vs Actual Values (Training Set)')\n",
    "plt.legend()\n",
    "plt.show()"
   ]
  },
  {
   "cell_type": "markdown",
   "metadata": {},
   "source": [
    "Test Evaluation"
   ]
  },
  {
   "cell_type": "code",
   "execution_count": null,
   "metadata": {},
   "outputs": [],
   "source": [
    "# Calculate Mean Squared Error (MSE) & r2\n",
    "mse = mean_squared_error(y_test, y_pred)\n",
    "r2 = r2_score(y_test,y_pred)\n",
    "print(\"Mean Squared Error:\", mse)\n",
    "print(\"R squared value is:\",r2)"
   ]
  },
  {
   "cell_type": "markdown",
   "metadata": {},
   "source": [
    "test nte visualisation"
   ]
  },
  {
   "cell_type": "code",
   "execution_count": null,
   "metadata": {},
   "outputs": [],
   "source": [
    "#Visualizing the Test Set Predictions\n",
    "# Plotting the actual vs predicted values for the test set\n",
    "\n",
    "plt.scatter(y_test,y_pred,  color='yellow')\n",
    "plt.plot([min(y_test),max(y_test)],[min(y_test),max(y_test)],color=\"red\")\n",
    "\n",
    "plt.ylabel('predicted values')\n",
    "plt.xlabel('actual values')\n",
    "plt.title('Predicted Line vs Actual Values (Testing Set)')\n",
    "plt.legend()\n",
    "plt.show()"
   ]
  }
 ],
 "metadata": {
  "language_info": {
   "name": "python"
  }
 },
 "nbformat": 4,
 "nbformat_minor": 2
}
