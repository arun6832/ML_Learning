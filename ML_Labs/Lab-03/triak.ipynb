{
 "cells": [
  {
   "cell_type": "code",
   "execution_count": 20,
   "metadata": {},
   "outputs": [
    {
     "data": {
      "text/plain": [
       "array([[10, 9],\n",
       "       [12, 4],\n",
       "       [4, 6],\n",
       "       [4, 4],\n",
       "       [21, 8],\n",
       "       [14, 5],\n",
       "       [3, 7],\n",
       "       [14, 9],\n",
       "       [13, 7],\n",
       "       [5, 9],\n",
       "       [3, 5],\n",
       "       [3, 7],\n",
       "       [9, 9]], dtype=object)"
      ]
     },
     "execution_count": 20,
     "metadata": {},
     "output_type": "execute_result"
    }
   ],
   "source": [
    "import numpy as np\n",
    "import pandas as pd\n",
    "\n",
    "df = pd.read_csv('dataTree1.csv')\n",
    "\n",
    "X = np.array(df)\n",
    "y = X[:, 1:3]\n",
    "y"
   ]
  },
  {
   "cell_type": "code",
   "execution_count": null,
   "metadata": {},
   "outputs": [],
   "source": []
  }
 ],
 "metadata": {
  "kernelspec": {
   "display_name": "Python 3",
   "language": "python",
   "name": "python3"
  },
  "language_info": {
   "codemirror_mode": {
    "name": "ipython",
    "version": 3
   },
   "file_extension": ".py",
   "mimetype": "text/x-python",
   "name": "python",
   "nbconvert_exporter": "python",
   "pygments_lexer": "ipython3",
   "version": "3.11.5"
  }
 },
 "nbformat": 4,
 "nbformat_minor": 2
}
