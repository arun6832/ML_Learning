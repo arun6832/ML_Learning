{
 "cells": [
  {
   "cell_type": "code",
   "execution_count": 5,
   "metadata": {},
   "outputs": [
    {
     "name": "stdout",
     "output_type": "stream",
     "text": [
      "{'Hello,': {'i': 1}}\n",
      "{'Hello,': {'i': 1}, 'i': {'Hello,': 1}}\n",
      "{'Hello,': {'i': 1}, 'i': {'Hello,': 1, 'am': 1}}\n",
      "{'Hello,': {'i': 1}, 'i': {'Hello,': 1, 'am': 1}, 'am': {'Hello,': 1}}\n",
      "{'Hello,': {'i': 1}, 'i': {'Hello,': 1, 'am': 1}, 'am': {'Hello,': 1, 'i': 1}}\n",
      "{'Hello,': {'i': 1}, 'i': {'Hello,': 1, 'am': 1}, 'am': {'Hello,': 1, 'i': 1, 'naveen': 1}}\n",
      "{'Hello,': {'i': 1}, 'i': {'Hello,': 1, 'am': 1}, 'am': {'Hello,': 1, 'i': 1, 'naveen': 1}, 'naveen': {'i': 1}}\n",
      "{'Hello,': {'i': 1}, 'i': {'Hello,': 1, 'am': 1}, 'am': {'Hello,': 1, 'i': 1, 'naveen': 1}, 'naveen': {'i': 1, 'am': 1}}\n",
      "{'Hello,': {'i': 1}, 'i': {'Hello,': 1, 'am': 1}, 'am': {'Hello,': 1, 'i': 1, 'naveen': 1}, 'naveen': {'i': 1, 'am': 1, 'krishna': 1}}\n",
      "{'Hello,': {'i': 1}, 'i': {'Hello,': 1, 'am': 1}, 'am': {'Hello,': 1, 'i': 1, 'naveen': 1}, 'naveen': {'i': 1, 'am': 1, 'krishna': 1}, 'krishna': {'am': 1}}\n",
      "{'Hello,': {'i': 1}, 'i': {'Hello,': 1, 'am': 1}, 'am': {'Hello,': 1, 'i': 1, 'naveen': 1}, 'naveen': {'i': 1, 'am': 1, 'krishna': 1}, 'krishna': {'am': 1, 'naveen': 1}}\n",
      "{'Hello,': {'i': 1}, 'i': {'Hello,': 1, 'am': 1}, 'am': {'Hello,': 1, 'i': 1, 'naveen': 1}, 'naveen': {'i': 1, 'am': 1, 'krishna': 1}, 'krishna': {'am': 1, 'naveen': 1}, 'Twinkle': {'Twinkle': 1}}\n",
      "{'Hello,': {'i': 1}, 'i': {'Hello,': 1, 'am': 1}, 'am': {'Hello,': 1, 'i': 1, 'naveen': 1}, 'naveen': {'i': 1, 'am': 1, 'krishna': 1}, 'krishna': {'am': 1, 'naveen': 1}, 'Twinkle': {'Twinkle': 1}, 'little': {'Twinkle': 1}}\n",
      "{'Hello,': {'i': 1}, 'i': {'Hello,': 1, 'am': 1}, 'am': {'Hello,': 1, 'i': 1, 'naveen': 1}, 'naveen': {'i': 1, 'am': 1, 'krishna': 1}, 'krishna': {'am': 1, 'naveen': 1}, 'Twinkle': {'Twinkle': 1}, 'little': {'Twinkle': 2}}\n",
      "{'Hello,': {'i': 1}, 'i': {'Hello,': 1, 'am': 1}, 'am': {'Hello,': 1, 'i': 1, 'naveen': 1}, 'naveen': {'i': 1, 'am': 1, 'krishna': 1}, 'krishna': {'am': 1, 'naveen': 1}, 'Twinkle': {'Twinkle': 1}, 'little': {'Twinkle': 2, 'star': 1}}\n",
      "{'Hello,': {'i': 1}, 'i': {'Hello,': 1, 'am': 1}, 'am': {'Hello,': 1, 'i': 1, 'naveen': 1}, 'naveen': {'i': 1, 'am': 1, 'krishna': 1}, 'krishna': {'am': 1, 'naveen': 1}, 'Twinkle': {'Twinkle': 1}, 'little': {'Twinkle': 2, 'star': 1}, 'star': {'Twinkle': 1}}\n",
      "{'Hello,': {'i': 1}, 'i': {'Hello,': 1, 'am': 1}, 'am': {'Hello,': 1, 'i': 1, 'naveen': 1}, 'naveen': {'i': 1, 'am': 1, 'krishna': 1}, 'krishna': {'am': 1, 'naveen': 1}, 'Twinkle': {'Twinkle': 1}, 'little': {'Twinkle': 2, 'star': 1}, 'star': {'Twinkle': 1, 'little': 1}}\n",
      "{'Hello,': {'i': 1}, 'i': {'Hello,': 1, 'am': 1}, 'am': {'Hello,': 1, 'i': 1, 'naveen': 1}, 'naveen': {'i': 1, 'am': 1, 'krishna': 1}, 'krishna': {'am': 1, 'naveen': 1}, 'Twinkle': {'Twinkle': 1}, 'little': {'Twinkle': 2, 'star': 1}, 'star': {'Twinkle': 1, 'little': 1}, 'I': {'love': 1}}\n",
      "{'Hello,': {'i': 1}, 'i': {'Hello,': 1, 'am': 1}, 'am': {'Hello,': 1, 'i': 1, 'naveen': 1}, 'naveen': {'i': 1, 'am': 1, 'krishna': 1}, 'krishna': {'am': 1, 'naveen': 1}, 'Twinkle': {'Twinkle': 1}, 'little': {'Twinkle': 2, 'star': 1}, 'star': {'Twinkle': 1, 'little': 1}, 'I': {'love': 1}, 'love': {'I': 1}}\n",
      "{'Hello,': {'i': 1}, 'i': {'Hello,': 1, 'am': 1}, 'am': {'Hello,': 1, 'i': 1, 'naveen': 1}, 'naveen': {'i': 1, 'am': 1, 'krishna': 1}, 'krishna': {'am': 1, 'naveen': 1}, 'Twinkle': {'Twinkle': 1}, 'little': {'Twinkle': 2, 'star': 1}, 'star': {'Twinkle': 1, 'little': 1}, 'I': {'love': 1}, 'love': {'I': 1, 'dogs': 1}}\n",
      "{'Hello,': {'i': 1}, 'i': {'Hello,': 1, 'am': 1}, 'am': {'Hello,': 1, 'i': 1, 'naveen': 1}, 'naveen': {'i': 1, 'am': 1, 'krishna': 1}, 'krishna': {'am': 1, 'naveen': 1}, 'Twinkle': {'Twinkle': 1}, 'little': {'Twinkle': 2, 'star': 1}, 'star': {'Twinkle': 1, 'little': 1}, 'I': {'love': 1}, 'love': {'I': 1, 'dogs': 1}, 'dogs': {'I': 1}}\n",
      "{'Hello,': {'i': 1}, 'i': {'Hello,': 1, 'am': 1}, 'am': {'Hello,': 1, 'i': 1, 'naveen': 1}, 'naveen': {'i': 1, 'am': 1, 'krishna': 1}, 'krishna': {'am': 1, 'naveen': 1}, 'Twinkle': {'Twinkle': 1}, 'little': {'Twinkle': 2, 'star': 1}, 'star': {'Twinkle': 1, 'little': 1}, 'I': {'love': 1}, 'love': {'I': 1, 'dogs': 1}, 'dogs': {'I': 1, 'love': 1}}\n",
      "{'Hello,': {'i': 1}, 'i': {'Hello,': 1, 'am': 1}, 'am': {'Hello,': 1, 'i': 1, 'naveen': 1}, 'naveen': {'i': 1, 'am': 1, 'krishna': 1}, 'krishna': {'am': 1, 'naveen': 1}, 'Twinkle': {'Twinkle': 1}, 'little': {'Twinkle': 2, 'star': 1}, 'star': {'Twinkle': 1, 'little': 1}, 'I': {'love': 1}, 'love': {'I': 1, 'dogs': 1}, 'dogs': {'I': 1, 'love': 1, 'more': 1}}\n",
      "{'Hello,': {'i': 1}, 'i': {'Hello,': 1, 'am': 1}, 'am': {'Hello,': 1, 'i': 1, 'naveen': 1}, 'naveen': {'i': 1, 'am': 1, 'krishna': 1}, 'krishna': {'am': 1, 'naveen': 1}, 'Twinkle': {'Twinkle': 1}, 'little': {'Twinkle': 2, 'star': 1}, 'star': {'Twinkle': 1, 'little': 1}, 'I': {'love': 1}, 'love': {'I': 1, 'dogs': 1}, 'dogs': {'I': 1, 'love': 1, 'more': 1}, 'more': {'love': 1}}\n",
      "{'Hello,': {'i': 1}, 'i': {'Hello,': 1, 'am': 1}, 'am': {'Hello,': 1, 'i': 1, 'naveen': 1}, 'naveen': {'i': 1, 'am': 1, 'krishna': 1}, 'krishna': {'am': 1, 'naveen': 1}, 'Twinkle': {'Twinkle': 1}, 'little': {'Twinkle': 2, 'star': 1}, 'star': {'Twinkle': 1, 'little': 1}, 'I': {'love': 1}, 'love': {'I': 1, 'dogs': 1}, 'dogs': {'I': 1, 'love': 1, 'more': 1}, 'more': {'love': 1, 'dogs': 1}}\n",
      "{'Hello,': {'i': 1}, 'i': {'Hello,': 1, 'am': 1}, 'am': {'Hello,': 1, 'i': 1, 'naveen': 1}, 'naveen': {'i': 1, 'am': 1, 'krishna': 1}, 'krishna': {'am': 1, 'naveen': 1}, 'Twinkle': {'Twinkle': 1}, 'little': {'Twinkle': 2, 'star': 1}, 'star': {'Twinkle': 1, 'little': 1}, 'I': {'love': 1}, 'love': {'I': 1, 'dogs': 1}, 'dogs': {'I': 1, 'love': 1, 'more': 1}, 'more': {'love': 1, 'dogs': 1, 'than': 1}}\n",
      "{'Hello,': {'i': 1}, 'i': {'Hello,': 1, 'am': 1}, 'am': {'Hello,': 1, 'i': 1, 'naveen': 1}, 'naveen': {'i': 1, 'am': 1, 'krishna': 1}, 'krishna': {'am': 1, 'naveen': 1}, 'Twinkle': {'Twinkle': 1}, 'little': {'Twinkle': 2, 'star': 1}, 'star': {'Twinkle': 1, 'little': 1}, 'I': {'love': 1}, 'love': {'I': 1, 'dogs': 1}, 'dogs': {'I': 1, 'love': 1, 'more': 1}, 'more': {'love': 1, 'dogs': 1, 'than': 1}, 'than': {'dogs': 1}}\n",
      "{'Hello,': {'i': 1}, 'i': {'Hello,': 1, 'am': 1}, 'am': {'Hello,': 1, 'i': 1, 'naveen': 1}, 'naveen': {'i': 1, 'am': 1, 'krishna': 1}, 'krishna': {'am': 1, 'naveen': 1}, 'Twinkle': {'Twinkle': 1}, 'little': {'Twinkle': 2, 'star': 1}, 'star': {'Twinkle': 1, 'little': 1}, 'I': {'love': 1}, 'love': {'I': 1, 'dogs': 1}, 'dogs': {'I': 1, 'love': 1, 'more': 1}, 'more': {'love': 1, 'dogs': 1, 'than': 1}, 'than': {'dogs': 1, 'more': 1}}\n",
      "{'Hello,': {'i': 1}, 'i': {'Hello,': 1, 'am': 1}, 'am': {'Hello,': 1, 'i': 1, 'naveen': 1}, 'naveen': {'i': 1, 'am': 1, 'krishna': 1}, 'krishna': {'am': 1, 'naveen': 1}, 'Twinkle': {'Twinkle': 1}, 'little': {'Twinkle': 2, 'star': 1}, 'star': {'Twinkle': 1, 'little': 1}, 'I': {'love': 1}, 'love': {'I': 1, 'dogs': 1}, 'dogs': {'I': 1, 'love': 1, 'more': 1}, 'more': {'love': 1, 'dogs': 1, 'than': 1}, 'than': {'dogs': 1, 'more': 1, 'cats': 1}}\n",
      "{'Hello,': {'i': 1}, 'i': {'Hello,': 1, 'am': 1}, 'am': {'Hello,': 1, 'i': 1, 'naveen': 1}, 'naveen': {'i': 1, 'am': 1, 'krishna': 1}, 'krishna': {'am': 1, 'naveen': 1}, 'Twinkle': {'Twinkle': 1}, 'little': {'Twinkle': 2, 'star': 1}, 'star': {'Twinkle': 1, 'little': 1}, 'I': {'love': 1}, 'love': {'I': 1, 'dogs': 1}, 'dogs': {'I': 1, 'love': 1, 'more': 1}, 'more': {'love': 1, 'dogs': 1, 'than': 1}, 'than': {'dogs': 1, 'more': 1, 'cats': 1}, 'cats': {'more': 1}}\n",
      "{'Hello,': {'i': 1}, 'i': {'Hello,': 1, 'am': 1}, 'am': {'Hello,': 1, 'i': 1, 'naveen': 1}, 'naveen': {'i': 1, 'am': 1, 'krishna': 1}, 'krishna': {'am': 1, 'naveen': 1}, 'Twinkle': {'Twinkle': 1}, 'little': {'Twinkle': 2, 'star': 1}, 'star': {'Twinkle': 1, 'little': 1}, 'I': {'love': 1}, 'love': {'I': 1, 'dogs': 1}, 'dogs': {'I': 1, 'love': 1, 'more': 1}, 'more': {'love': 1, 'dogs': 1, 'than': 1}, 'than': {'dogs': 1, 'more': 1, 'cats': 1}, 'cats': {'more': 1, 'than': 1}}\n"
     ]
    }
   ],
   "source": [
    "sentences = [\"Hello, i am naveen krishna\", \"Twinkle Twinkle little star\", \"I love dogs more than cats\"]\n",
    "\n",
    "\n",
    "co_occurance_matrix = {}\n",
    "window_size = 2\n",
    "\n",
    "for sentence in sentences:\n",
    "    words = sentence.split()\n",
    "    for i , word in enumerate(words):\n",
    "        start = max(0, i-window_size)\n",
    "        end = min(len(words), i+ window_size)\n",
    "        context_words = words[start:end]\n",
    "        context_words.remove(word)\n",
    "        if word not in co_occurance_matrix:\n",
    "            co_occurance_matrix[word] = {}\n",
    "            for context_word in context_words:\n",
    "                if context_word not in co_occurance_matrix[word]:\n",
    "                    co_occurance_matrix[word][context_word] = 0\n",
    "                co_occurance_matrix[word][context_word] += 1\n",
    "                print(co_occurance_matrix)\n",
    "\n",
    "\n"
   ]
  },
  {
   "cell_type": "code",
   "execution_count": 1,
   "metadata": {},
   "outputs": [
    {
     "name": "stdout",
     "output_type": "stream",
     "text": [
      "Slope (m): 0.6\n",
      "Y-intercept (b): 2.2\n",
      "Predicted values of y: [2.8000000000000003, 3.4000000000000004, 4.0, 4.6, 5.2]\n"
     ]
    }
   ],
   "source": [
    "# Define your dataset (X and y)\n",
    "X = [1, 2, 3, 4, 5]\n",
    "y = [2, 4, 5, 4, 5]\n",
    "\n",
    "# Calculate the mean of X and y\n",
    "mean_x = sum(X) / len(X)\n",
    "mean_y = sum(y) / len(y)\n",
    "\n",
    "# Calculate the slope (m) and y-intercept (b) using the formulas\n",
    "numerator = 0\n",
    "denominator = 0\n",
    "for i in range(len(X)):\n",
    "    numerator += (X[i] - mean_x) * (y[i] - mean_y)\n",
    "    denominator += (X[i] - mean_x) ** 2\n",
    "\n",
    "m = numerator / denominator\n",
    "b = mean_y - (m * mean_x)\n",
    "\n",
    "# Predict the values of y for the given X\n",
    "predicted_y = [m * x + b for x in X]\n",
    "\n",
    "# Print the slope and y-intercept\n",
    "print(\"Slope (m):\", m)\n",
    "print(\"Y-intercept (b):\", b)\n",
    "\n",
    "# Print the predicted values of y\n",
    "print(\"Predicted values of y:\", predicted_y)\n"
   ]
  },
  {
   "cell_type": "code",
   "execution_count": null,
   "metadata": {},
   "outputs": [],
   "source": []
  }
 ],
 "metadata": {
  "kernelspec": {
   "display_name": "Python 3",
   "language": "python",
   "name": "python3"
  },
  "language_info": {
   "codemirror_mode": {
    "name": "ipython",
    "version": 3
   },
   "file_extension": ".py",
   "mimetype": "text/x-python",
   "name": "python",
   "nbconvert_exporter": "python",
   "pygments_lexer": "ipython3",
   "version": "3.11.5"
  }
 },
 "nbformat": 4,
 "nbformat_minor": 2
}
