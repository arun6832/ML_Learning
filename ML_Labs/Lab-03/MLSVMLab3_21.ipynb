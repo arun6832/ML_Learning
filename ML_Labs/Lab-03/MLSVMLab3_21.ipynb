{
 "cells": [
  {
   "cell_type": "code",
   "execution_count": null,
   "id": "16d79b9e",
   "metadata": {},
   "outputs": [],
   "source": [
    "# #https://www.w3schools.com/python/python_ml_decision_tree.asp\n",
    "# Machine Learning Lab2: Created by Jibrael Jos,PhD\n",
    "# Topic: Decision Tree Explorations\n",
    "# Student Name:Naveen Krishna\n",
    "# Roll No:23\n",
    "# Date:7 March\n",
    "# Submission : \n",
    "# Python Notebook as PDF (File Name MLDecisionTree23.pdf) \n",
    "# and Observations in MLLab2_23.xlsx \n",
    "\n",
    "# Where 21 can be replaced with your roll number"
   ]
  },
  {
   "cell_type": "code",
   "execution_count": 1,
   "id": "cd4512c4",
   "metadata": {},
   "outputs": [
    {
     "name": "stdout",
     "output_type": "stream",
     "text": [
      "['Age', 'Rank']\n"
     ]
    }
   ],
   "source": [
    "import pandas\n",
    "from sklearn import svm\n",
    "import matplotlib.pyplot as plt\n",
    "\n",
    "df = pandas.read_csv(\"dataTree1.csv\")\n",
    "\n",
    "d = {'UK': 0, 'USA': 1, 'N': 2}\n",
    "df['Nationality'] = df['Nationality'].map(d)\n",
    "d = {'YES': 1, 'NO': 0}\n",
    "df['Go'] = df['Go'].map(d)\n",
    "\n",
    "features = ['Age', 'Experience', 'Rank','Nationality']\n",
    "\n",
    "features = ['Age', 'Rank']\n",
    "print(features)\n",
    "X = df[features]\n",
    "y = df['Go']"
   ]
  },
  {
   "cell_type": "code",
   "execution_count": null,
   "id": "0121ba7b",
   "metadata": {},
   "outputs": [],
   "source": [
    "\n",
    "model = svm.SVC()\n",
    "clf = model.fit(X1a, y)\n",
    "\n",
    "features = ['Age', 'Rank']\n",
    "print(features)\n",
    "X = df[features]"
   ]
  },
  {
   "cell_type": "code",
   "execution_count": 4,
   "id": "9f90fec5",
   "metadata": {},
   "outputs": [
    {
     "name": "stdout",
     "output_type": "stream",
     "text": [
      "[1]\n"
     ]
    },
    {
     "name": "stderr",
     "output_type": "stream",
     "text": [
      "/Library/Frameworks/Python.framework/Versions/3.11/lib/python3.11/site-packages/sklearn/base.py:465: UserWarning: X does not have valid feature names, but SVC was fitted with feature names\n",
      "  warnings.warn(\n"
     ]
    }
   ],
   "source": [
    "print(clf.predict([[47, 6]]))"
   ]
  },
  {
   "cell_type": "code",
   "execution_count": 6,
   "id": "022a9b70",
   "metadata": {},
   "outputs": [
    {
     "name": "stdout",
     "output_type": "stream",
     "text": [
      "[1]\n"
     ]
    },
    {
     "name": "stderr",
     "output_type": "stream",
     "text": [
      "/Library/Frameworks/Python.framework/Versions/3.11/lib/python3.11/site-packages/sklearn/base.py:465: UserWarning: X does not have valid feature names, but SVC was fitted with feature names\n",
      "  warnings.warn(\n"
     ]
    }
   ],
   "source": [
    "print(clf.predict([[40, 10]]))"
   ]
  },
  {
   "cell_type": "code",
   "execution_count": null,
   "id": "1aaab5b0",
   "metadata": {},
   "outputs": [],
   "source": []
  },
  {
   "cell_type": "code",
   "execution_count": 7,
   "id": "1a062c33",
   "metadata": {},
   "outputs": [
    {
     "name": "stdout",
     "output_type": "stream",
     "text": [
      "SVC(kernel='linear')\n"
     ]
    },
    {
     "name": "stderr",
     "output_type": "stream",
     "text": [
      "/Library/Frameworks/Python.framework/Versions/3.11/lib/python3.11/site-packages/sklearn/base.py:465: UserWarning: X does not have valid feature names, but SVC was fitted with feature names\n",
      "  warnings.warn(\n",
      "No artists with labels found to put in legend.  Note that artists whose label start with an underscore are ignored when legend() is called with no argument.\n"
     ]
    },
    {
     "data": {
      "image/png": "[encoded data removed]",
      "text/plain": [
       "<Figure size 640x480 with 1 Axes>"
      ]
     },
     "metadata": {},
     "output_type": "display_data"
    }
   ],
   "source": [
    "# iris = datasets.load_iris()\n",
    "# X = iris.data[:, :2]  # we only take the first two features.\n",
    "# y = iris.target\n",
    "import numpy as np\n",
    "\n",
    "def make_meshgrid(x, y, h=.02):\n",
    "    x_min, x_max = x.min() - 1, x.max() + 1\n",
    "    y_min, y_max = y.min() - 1, y.max() + 1\n",
    "    xx, yy = np.meshgrid(np.arange(x_min, x_max, h), np.arange(y_min, y_max, h))\n",
    "    return xx, yy\n",
    "\n",
    "def plot_contours(ax, clf, xx, yy, **params):\n",
    "    Z = clf.predict(np.c_[xx.ravel(), yy.ravel()])\n",
    "    Z = Z.reshape(xx.shape)\n",
    "    out = ax.contourf(xx, yy, Z, **params)\n",
    "    return out\n",
    "\n",
    "model = svm.SVC(kernel='linear')\n",
    "clf = model.fit(X1a, y)\n",
    "print(clf)\n",
    "fig, ax = plt.subplots()\n",
    "# title for the plots\n",
    "title = ('Decision surface of linear SVC ')\n",
    "# Set-up grid for plotting.\n",
    "# print(X)\n",
    "# print(y)\n",
    "# print(X.iloc[:, 1])\n",
    "X0, X1 = X.iloc[:, 0], X.iloc[:, 1]\n",
    "xx, yy = make_meshgrid(X0, X1)\n",
    "\n",
    "plot_contours(ax, clf, xx, yy, cmap=plt.cm.summer, alpha=0.1)\n",
    "ax.scatter(X0, X1, c=y, cmap=plt.cm.summer, s=30, edgecolors='k')\n",
    "ax.set_ylabel('Rank')\n",
    "ax.set_xlabel('Age')\n",
    "ax.set_xticks(())\n",
    "ax.set_yticks(())\n",
    "ax.set_title(title)\n",
    "ax.legend()\n",
    "plt.show()"
   ]
  },
  {
   "cell_type": "code",
   "execution_count": null,
   "id": "fa0774ac",
   "metadata": {},
   "outputs": [],
   "source": []
  }
 ],
 "metadata": {
  "kernelspec": {
   "display_name": "Python 3 (ipykernel)",
   "language": "python",
   "name": "python3"
  },
  "language_info": {
   "codemirror_mode": {
    "name": "ipython",
    "version": 3
   },
   "file_extension": ".py",
   "mimetype": "text/x-python",
   "name": "python",
   "nbconvert_exporter": "python",
   "pygments_lexer": "ipython3",
   "version": "3.11.5"
  }
 },
 "nbformat": 4,
 "nbformat_minor": 5
}
