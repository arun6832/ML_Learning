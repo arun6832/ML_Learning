{
  "cells": [
    {
      "cell_type": "code",
      "execution_count": null,
      "id": "474f147e",
      "metadata": {
        "id": "474f147e",
        "outputId": "18b0c008-e643-4a60-9778-f25b6d08e835"
      },
      "outputs": [
        {
          "name": "stdout",
          "output_type": "stream",
          "text": [
            "Original Dataframe shape : (569, 31)\n",
            "Inputs Dataframe shape   : (569, 30)\n"
          ]
        }
      ],
      "source": [
        "\n",
        "import pandas as pd\n",
        "import numpy as np\n",
        "\n",
        "# Here we are using inbuilt dataset of scikit learn\n",
        "from sklearn.datasets import load_breast_cancer\n",
        "\n",
        "# instantiating\n",
        "cancer = load_breast_cancer(as_frame=True)\n",
        "# creating dataframe\n",
        "df = cancer.frame\n",
        "\n",
        "# checking shape\n",
        "print('Original Dataframe shape :',df.shape)\n",
        "\n",
        "# Input features\n",
        "X = df[cancer['feature_names']]\n",
        "print('Inputs Dataframe shape   :', X.shape)"
      ]
    },
    {
      "cell_type": "code",
      "execution_count": null,
      "id": "74e6746e",
      "metadata": {
        "id": "74e6746e",
        "outputId": "7d1866d3-302d-4694-e462-33170b8a774b"
      },
      "outputs": [
        {
          "name": "stdout",
          "output_type": "stream",
          "text": [
            "     mean radius  mean texture  mean perimeter  mean area  mean smoothness  \\\n",
            "0       1.096100     -2.071512        1.268817   0.983510         1.567087   \n",
            "1       1.828212     -0.353322        1.684473   1.907030        -0.826235   \n",
            "2       1.578499      0.455786        1.565126   1.557513         0.941382   \n",
            "3      -0.768233      0.253509       -0.592166  -0.763792         3.280667   \n",
            "4       1.748758     -1.150804        1.775011   1.824624         0.280125   \n",
            "..           ...           ...             ...        ...              ...   \n",
            "564     2.109139      0.720838        2.058974   2.341795         1.040926   \n",
            "565     1.703356      2.083301        1.614511   1.722326         0.102368   \n",
            "566     0.701667      2.043775        0.672084   0.577445        -0.839745   \n",
            "567     1.836725      2.334403        1.980781   1.733693         1.524426   \n",
            "568    -1.806811      1.220718       -1.812793  -1.346604        -3.109349   \n",
            "\n",
            "     mean compactness  mean concavity  mean concave points  mean symmetry  \\\n",
            "0            3.280628        2.650542             2.530249       2.215566   \n",
            "1           -0.486643       -0.023825             0.547662       0.001391   \n",
            "2            1.052000        1.362280             2.035440       0.938859   \n",
            "3            3.399917        1.914213             1.450431       2.864862   \n",
            "4            0.538866        1.369806             1.427237      -0.009552   \n",
            "..                ...             ...                  ...            ...   \n",
            "564          0.218868        1.945573             2.318924      -0.312314   \n",
            "565         -0.017817        0.692434             1.262558      -0.217473   \n",
            "566         -0.038646        0.046547             0.105684      -0.808406   \n",
            "567          3.269267        3.294046             2.656528       2.135315   \n",
            "568         -1.149741       -1.113893            -1.260710      -0.819349   \n",
            "\n",
            "     mean fractal dimension  ...  worst radius  worst texture  \\\n",
            "0                  2.253764  ...      1.885031      -1.358098   \n",
            "1                 -0.867889  ...      1.804340      -0.368879   \n",
            "2                 -0.397658  ...      1.510541      -0.023953   \n",
            "3                  4.906602  ...     -0.281217       0.133866   \n",
            "4                 -0.561956  ...      1.297434      -1.465481   \n",
            "..                      ...  ...           ...            ...   \n",
            "564               -0.930209  ...      1.899514       0.117596   \n",
            "565               -1.057681  ...      1.535369       2.045599   \n",
            "566               -0.894800  ...      0.560868       1.373645   \n",
            "567                1.042778  ...      1.959515       2.235958   \n",
            "568               -0.560539  ...     -1.409652       0.763518   \n",
            "\n",
            "     worst perimeter  worst area  worst smoothness  worst compactness  \\\n",
            "0           2.301575    1.999478          1.306537           2.614365   \n",
            "1           1.533776    1.888827         -0.375282          -0.430066   \n",
            "2           1.346291    1.455004          0.526944           1.081980   \n",
            "3          -0.249720   -0.549538          3.391291           3.889975   \n",
            "4           1.337363    1.219651          0.220362          -0.313119   \n",
            "..               ...         ...               ...                ...   \n",
            "564         1.751022    2.013529          0.378033          -0.273077   \n",
            "565         1.420690    1.493644         -0.690623          -0.394473   \n",
            "566         0.578492    0.427529         -0.808876           0.350427   \n",
            "567         2.301575    1.651717          1.429169           3.901415   \n",
            "568        -1.431475   -1.074867         -1.857384          -1.206491   \n",
            "\n",
            "     worst concavity  worst concave points  worst symmetry  \\\n",
            "0           2.107672              2.294058        2.748204   \n",
            "1          -0.146620              1.086129       -0.243675   \n",
            "2           0.854222              1.953282        1.151242   \n",
            "3           1.987839              2.173873        6.040726   \n",
            "4           0.612640              0.728618       -0.867590   \n",
            "..               ...                   ...             ...   \n",
            "564         0.663928              1.627719       -1.358963   \n",
            "565         0.236365              0.733182       -0.531387   \n",
            "566         0.326479              0.413705       -1.103578   \n",
            "567         3.194794              2.287972        1.917396   \n",
            "568        -1.304683             -1.743529       -0.048096   \n",
            "\n",
            "     worst fractal dimension  \n",
            "0                   1.935312  \n",
            "1                   0.280943  \n",
            "2                   0.201214  \n",
            "3                   4.930672  \n",
            "4                  -0.396751  \n",
            "..                       ...  \n",
            "564                -0.708467  \n",
            "565                -0.973122  \n",
            "566                -0.318129  \n",
            "567                 2.217684  \n",
            "568                -0.750546  \n",
            "\n",
            "[569 rows x 30 columns]\n"
          ]
        }
      ],
      "source": [
        "\n",
        "# Mean\n",
        "X_mean = X.mean()\n",
        "# print(X_mean)\n",
        "# Standard deviation\n",
        "X_std = X.std()\n",
        "# print(X_std)\n",
        "# Standardization\n",
        "Z = (X - X_mean) / X_std\n",
        "print(Z)"
      ]
    },
    {
      "cell_type": "code",
      "execution_count": null,
      "id": "da7c96c1",
      "metadata": {
        "id": "da7c96c1"
      },
      "outputs": [],
      "source": [
        "n_components=7"
      ]
    },
    {
      "cell_type": "code",
      "execution_count": null,
      "id": "ea3fa4a2",
      "metadata": {
        "id": "ea3fa4a2",
        "outputId": "5200e9e1-3886-45bf-e35c-3c5b3f42d9ea"
      },
      "outputs": [
        {
          "name": "stdout",
          "output_type": "stream",
          "text": [
            "           PC1        PC2       PC3       PC4       PC5       PC6       PC7\n",
            "0     9.184755   1.946870 -1.122179  3.630536 -1.194060  1.410184  2.157479\n",
            "1     2.385703  -3.764859 -0.528827  1.117281  0.621228  0.028631  0.013341\n",
            "2     5.728855  -1.074229 -0.551263  0.911281 -0.176930  0.540976 -0.667582\n",
            "3     7.116691  10.266556 -3.229948  0.152413 -2.958276  3.050738  1.428660\n",
            "4     3.931842  -1.946359  1.388545  2.938054  0.546267 -1.225417 -0.935391\n",
            "..         ...        ...       ...       ...       ...       ...       ...\n",
            "564   6.433655  -3.573673  2.457324  1.176279 -0.074758 -2.373105 -0.595610\n",
            "565   3.790048  -3.580897  2.086640 -2.503825 -0.510274 -0.246493 -0.715694\n",
            "566   1.255075  -1.900624  0.562236 -2.087390  1.808400 -0.533978 -0.192591\n",
            "567  10.365673   1.670540 -1.875379 -2.353960 -0.033712  0.567437  0.222884\n",
            "568  -5.470430  -0.670047  1.489133 -2.297136 -0.184541  1.616415  1.697455\n",
            "\n",
            "[569 rows x 7 columns]\n"
          ]
        }
      ],
      "source": [
        "\n",
        "# Importing PCA\n",
        "from sklearn.decomposition import PCA\n",
        "\n",
        "\n",
        "pca = PCA(n_components=7)\n",
        "pca.fit(Z)\n",
        "x_pca = pca.transform(Z)\n",
        "\n",
        "df_pca1 = pd.DataFrame(x_pca,columns=['PC{}'.format(i+1) for i in range(n_components)])\n",
        "print(df_pca1)"
      ]
    },
    {
      "cell_type": "code",
      "execution_count": null,
      "id": "b74de104",
      "metadata": {
        "id": "b74de104"
      },
      "outputs": [],
      "source": []
    }
  ],
  "metadata": {
    "colab": {
      "provenance": []
    },
    "kernelspec": {
      "display_name": "Python 3 (ipykernel)",
      "language": "python",
      "name": "python3"
    },
    "language_info": {
      "codemirror_mode": {
        "name": "ipython",
        "version": 3
      },
      "file_extension": ".py",
      "mimetype": "text/x-python",
      "name": "python",
      "nbconvert_exporter": "python",
      "pygments_lexer": "ipython3",
      "version": "3.11.5"
    }
  },
  "nbformat": 4,
  "nbformat_minor": 5
}
