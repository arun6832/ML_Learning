{
 "cells": [
  {
   "cell_type": "code",
   "execution_count": null,
   "metadata": {},
   "outputs": [],
   "source": [
    "import pandas as pd\n",
    "import numpy as np\n",
    "\n",
    "# Read the CSV file into a DataFrame\n",
    "df = pd.read_csv('data.csv')\n",
    "\n",
    "# Select multiple columns to stack\n",
    "columns_to_stack = ['player_name', 'team_abbreviation', 'age', 'player_height', 'player_weight', 'draft_round']\n",
    "\n",
    "# Extract these columns as a 2D NumPy array\n",
    "data_to_stack = df[columns_to_stack].to_numpy()\n",
    "\n",
    "# Alternatively, you can use np.column_stack if you prefer\n",
    "# data_to_stack = np.column_stack([df[col].to_numpy() for col in columns_to_stack])\n",
    "\n",
    "print(data_to_stack)\n"
   ]
  }
 ],
 "metadata": {
  "language_info": {
   "name": "python"
  }
 },
 "nbformat": 4,
 "nbformat_minor": 2
}
