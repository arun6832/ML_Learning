{
 "cells": [
  {
   "cell_type": "markdown",
   "metadata": {},
   "source": [
    "# Data Preprocessing."
   ]
  },
  {
   "cell_type": "code",
   "execution_count": 133,
   "metadata": {},
   "outputs": [
    {
     "data": {
      "text/plain": [
       "Index(['Absolute Magnitude', 'Est Dia in M(min)', 'Est Dia in M(max)',\n",
       "       'Epoch Date Close Approach', 'Relative Velocity km per sec',\n",
       "       'Relative Velocity km per hr', 'Miles per hour',\n",
       "       'Miss Dist.(Astronomical)', 'Miss Dist.(lunar)',\n",
       "       'Miss Dist.(kilometers)', 'Miss Dist.(miles)', 'Orbiting Body',\n",
       "       'Orbit ID', 'Orbit Uncertainity', 'Minimum Orbit Intersection',\n",
       "       'Jupiter Tisserand Invariant', 'Epoch Osculation', 'Eccentricity',\n",
       "       'Semi Major Axis', 'Inclination', 'Asc Node Longitude',\n",
       "       'Orbital Period', 'Perihelion Distance', 'Perihelion Arg',\n",
       "       'Aphelion Dist', 'Perihelion Time', 'Mean Anomaly', 'Mean Motion',\n",
       "       'Hazardous'],\n",
       "      dtype='object')"
      ]
     },
     "execution_count": 133,
     "metadata": {},
     "output_type": "execute_result"
    }
   ],
   "source": [
    "import pandas as pd\n",
    "\n",
    "df.columns\n",
    "df = pd.read_csv(\"nasa.csv\")\n",
    "drop_column = [\"Neo Reference ID\", \"Name\", \"Equinox\", 'Est Dia in KM(min)', 'Est Dia in KM(max)', 'Est Dia in Miles(min)',\n",
    "       'Est Dia in Miles(max)', 'Est Dia in Feet(min)', 'Est Dia in Feet(max)', 'Close Approach Date', 'Orbit Determination Date']\n",
    "df = df.drop(drop_column, axis = 1)\n",
    "\n",
    "df.columns\n"
   ]
  },
  {
   "cell_type": "code",
   "execution_count": 134,
   "metadata": {},
   "outputs": [
    {
     "data": {
      "text/html": [
       "<div>\n",
       "<style scoped>\n",
       "    .dataframe tbody tr th:only-of-type {\n",
       "        vertical-align: middle;\n",
       "    }\n",
       "\n",
       "    .dataframe tbody tr th {\n",
       "        vertical-align: top;\n",
       "    }\n",
       "\n",
       "    .dataframe thead th {\n",
       "        text-align: right;\n",
       "    }\n",
       "</style>\n",
       "<table border=\"1\" class=\"dataframe\">\n",
       "  <thead>\n",
       "    <tr style=\"text-align: right;\">\n",
       "      <th></th>\n",
       "      <th>Absolute Magnitude</th>\n",
       "      <th>Est Dia in M(min)</th>\n",
       "      <th>Est Dia in M(max)</th>\n",
       "      <th>Epoch Date Close Approach</th>\n",
       "      <th>Relative Velocity km per sec</th>\n",
       "      <th>Relative Velocity km per hr</th>\n",
       "      <th>Miles per hour</th>\n",
       "      <th>Miss Dist.(Astronomical)</th>\n",
       "      <th>Miss Dist.(lunar)</th>\n",
       "      <th>Miss Dist.(kilometers)</th>\n",
       "      <th>...</th>\n",
       "      <th>Inclination</th>\n",
       "      <th>Asc Node Longitude</th>\n",
       "      <th>Orbital Period</th>\n",
       "      <th>Perihelion Distance</th>\n",
       "      <th>Perihelion Arg</th>\n",
       "      <th>Aphelion Dist</th>\n",
       "      <th>Perihelion Time</th>\n",
       "      <th>Mean Anomaly</th>\n",
       "      <th>Mean Motion</th>\n",
       "      <th>Hazardous</th>\n",
       "    </tr>\n",
       "  </thead>\n",
       "  <tbody>\n",
       "    <tr>\n",
       "      <th>0</th>\n",
       "      <td>21.600</td>\n",
       "      <td>127.219878</td>\n",
       "      <td>284.472297</td>\n",
       "      <td>7.890000e+11</td>\n",
       "      <td>6.115834</td>\n",
       "      <td>22017.00380</td>\n",
       "      <td>13680.509940</td>\n",
       "      <td>0.419483</td>\n",
       "      <td>163.178711</td>\n",
       "      <td>6.275369e+07</td>\n",
       "      <td>...</td>\n",
       "      <td>6.025981</td>\n",
       "      <td>314.373913</td>\n",
       "      <td>609.599786</td>\n",
       "      <td>0.808259</td>\n",
       "      <td>57.257470</td>\n",
       "      <td>2.005764</td>\n",
       "      <td>2458161.642</td>\n",
       "      <td>264.837533</td>\n",
       "      <td>0.590551</td>\n",
       "      <td>1</td>\n",
       "    </tr>\n",
       "    <tr>\n",
       "      <th>1</th>\n",
       "      <td>21.300</td>\n",
       "      <td>146.067964</td>\n",
       "      <td>326.617897</td>\n",
       "      <td>7.890000e+11</td>\n",
       "      <td>18.113985</td>\n",
       "      <td>65210.34609</td>\n",
       "      <td>40519.173110</td>\n",
       "      <td>0.383014</td>\n",
       "      <td>148.992630</td>\n",
       "      <td>5.729815e+07</td>\n",
       "      <td>...</td>\n",
       "      <td>28.412996</td>\n",
       "      <td>136.717242</td>\n",
       "      <td>425.869294</td>\n",
       "      <td>0.718200</td>\n",
       "      <td>313.091975</td>\n",
       "      <td>1.497352</td>\n",
       "      <td>2457794.969</td>\n",
       "      <td>173.741112</td>\n",
       "      <td>0.845330</td>\n",
       "      <td>0</td>\n",
       "    </tr>\n",
       "    <tr>\n",
       "      <th>2</th>\n",
       "      <td>20.300</td>\n",
       "      <td>231.502122</td>\n",
       "      <td>517.654482</td>\n",
       "      <td>7.900000e+11</td>\n",
       "      <td>7.590711</td>\n",
       "      <td>27326.56018</td>\n",
       "      <td>16979.661800</td>\n",
       "      <td>0.050956</td>\n",
       "      <td>19.821890</td>\n",
       "      <td>7.622912e+06</td>\n",
       "      <td>...</td>\n",
       "      <td>4.237961</td>\n",
       "      <td>259.475979</td>\n",
       "      <td>643.580228</td>\n",
       "      <td>0.950791</td>\n",
       "      <td>248.415038</td>\n",
       "      <td>1.966857</td>\n",
       "      <td>2458120.468</td>\n",
       "      <td>292.893654</td>\n",
       "      <td>0.559371</td>\n",
       "      <td>1</td>\n",
       "    </tr>\n",
       "    <tr>\n",
       "      <th>3</th>\n",
       "      <td>27.400</td>\n",
       "      <td>8.801465</td>\n",
       "      <td>19.680675</td>\n",
       "      <td>7.900000e+11</td>\n",
       "      <td>11.173875</td>\n",
       "      <td>40225.94819</td>\n",
       "      <td>24994.839860</td>\n",
       "      <td>0.285322</td>\n",
       "      <td>110.990387</td>\n",
       "      <td>4.268362e+07</td>\n",
       "      <td>...</td>\n",
       "      <td>7.905894</td>\n",
       "      <td>57.173266</td>\n",
       "      <td>514.082140</td>\n",
       "      <td>0.983902</td>\n",
       "      <td>18.707701</td>\n",
       "      <td>1.527904</td>\n",
       "      <td>2457902.337</td>\n",
       "      <td>68.741007</td>\n",
       "      <td>0.700277</td>\n",
       "      <td>0</td>\n",
       "    </tr>\n",
       "    <tr>\n",
       "      <th>4</th>\n",
       "      <td>21.600</td>\n",
       "      <td>127.219878</td>\n",
       "      <td>284.472297</td>\n",
       "      <td>7.900000e+11</td>\n",
       "      <td>9.840831</td>\n",
       "      <td>35426.99179</td>\n",
       "      <td>22012.954980</td>\n",
       "      <td>0.407832</td>\n",
       "      <td>158.646713</td>\n",
       "      <td>6.101082e+07</td>\n",
       "      <td>...</td>\n",
       "      <td>16.793382</td>\n",
       "      <td>84.629307</td>\n",
       "      <td>495.597821</td>\n",
       "      <td>0.967687</td>\n",
       "      <td>158.263596</td>\n",
       "      <td>1.483543</td>\n",
       "      <td>2457814.455</td>\n",
       "      <td>135.142133</td>\n",
       "      <td>0.726395</td>\n",
       "      <td>1</td>\n",
       "    </tr>\n",
       "    <tr>\n",
       "      <th>...</th>\n",
       "      <td>...</td>\n",
       "      <td>...</td>\n",
       "      <td>...</td>\n",
       "      <td>...</td>\n",
       "      <td>...</td>\n",
       "      <td>...</td>\n",
       "      <td>...</td>\n",
       "      <td>...</td>\n",
       "      <td>...</td>\n",
       "      <td>...</td>\n",
       "      <td>...</td>\n",
       "      <td>...</td>\n",
       "      <td>...</td>\n",
       "      <td>...</td>\n",
       "      <td>...</td>\n",
       "      <td>...</td>\n",
       "      <td>...</td>\n",
       "      <td>...</td>\n",
       "      <td>...</td>\n",
       "      <td>...</td>\n",
       "      <td>...</td>\n",
       "    </tr>\n",
       "    <tr>\n",
       "      <th>4682</th>\n",
       "      <td>23.900</td>\n",
       "      <td>44.111820</td>\n",
       "      <td>98.637028</td>\n",
       "      <td>1.470000e+12</td>\n",
       "      <td>22.154265</td>\n",
       "      <td>79755.35427</td>\n",
       "      <td>49556.875550</td>\n",
       "      <td>0.041361</td>\n",
       "      <td>16.089413</td>\n",
       "      <td>6.187511e+06</td>\n",
       "      <td>...</td>\n",
       "      <td>39.880491</td>\n",
       "      <td>164.183305</td>\n",
       "      <td>457.179984</td>\n",
       "      <td>0.741558</td>\n",
       "      <td>276.395697</td>\n",
       "      <td>1.581299</td>\n",
       "      <td>2457708.228</td>\n",
       "      <td>304.306024</td>\n",
       "      <td>0.787436</td>\n",
       "      <td>0</td>\n",
       "    </tr>\n",
       "    <tr>\n",
       "      <th>4683</th>\n",
       "      <td>28.200</td>\n",
       "      <td>6.089126</td>\n",
       "      <td>13.615700</td>\n",
       "      <td>1.470000e+12</td>\n",
       "      <td>3.225150</td>\n",
       "      <td>11610.53958</td>\n",
       "      <td>7214.337772</td>\n",
       "      <td>0.006469</td>\n",
       "      <td>2.516399</td>\n",
       "      <td>9.677324e+05</td>\n",
       "      <td>...</td>\n",
       "      <td>5.360249</td>\n",
       "      <td>345.225230</td>\n",
       "      <td>407.185767</td>\n",
       "      <td>0.996434</td>\n",
       "      <td>42.111064</td>\n",
       "      <td>1.153835</td>\n",
       "      <td>2458087.617</td>\n",
       "      <td>282.978786</td>\n",
       "      <td>0.884117</td>\n",
       "      <td>0</td>\n",
       "    </tr>\n",
       "    <tr>\n",
       "      <th>4684</th>\n",
       "      <td>22.700</td>\n",
       "      <td>76.657557</td>\n",
       "      <td>171.411509</td>\n",
       "      <td>1.470000e+12</td>\n",
       "      <td>7.191642</td>\n",
       "      <td>25889.91063</td>\n",
       "      <td>16086.983630</td>\n",
       "      <td>0.061009</td>\n",
       "      <td>23.732393</td>\n",
       "      <td>9.126775e+06</td>\n",
       "      <td>...</td>\n",
       "      <td>4.405467</td>\n",
       "      <td>37.026468</td>\n",
       "      <td>690.054279</td>\n",
       "      <td>0.965760</td>\n",
       "      <td>274.692712</td>\n",
       "      <td>2.090708</td>\n",
       "      <td>2458300.480</td>\n",
       "      <td>203.501147</td>\n",
       "      <td>0.521698</td>\n",
       "      <td>0</td>\n",
       "    </tr>\n",
       "    <tr>\n",
       "      <th>4685</th>\n",
       "      <td>21.800</td>\n",
       "      <td>116.025908</td>\n",
       "      <td>259.441818</td>\n",
       "      <td>1.470000e+12</td>\n",
       "      <td>11.352090</td>\n",
       "      <td>40867.52231</td>\n",
       "      <td>25393.489070</td>\n",
       "      <td>0.260760</td>\n",
       "      <td>101.435494</td>\n",
       "      <td>3.900908e+07</td>\n",
       "      <td>...</td>\n",
       "      <td>21.080244</td>\n",
       "      <td>163.802909</td>\n",
       "      <td>662.048343</td>\n",
       "      <td>1.185467</td>\n",
       "      <td>180.346090</td>\n",
       "      <td>1.787733</td>\n",
       "      <td>2458288.261</td>\n",
       "      <td>203.524965</td>\n",
       "      <td>0.543767</td>\n",
       "      <td>0</td>\n",
       "    </tr>\n",
       "    <tr>\n",
       "      <th>4686</th>\n",
       "      <td>19.109</td>\n",
       "      <td>400.640618</td>\n",
       "      <td>895.859655</td>\n",
       "      <td>1.470000e+12</td>\n",
       "      <td>35.946852</td>\n",
       "      <td>129408.66630</td>\n",
       "      <td>80409.512650</td>\n",
       "      <td>0.462372</td>\n",
       "      <td>179.862671</td>\n",
       "      <td>6.916986e+07</td>\n",
       "      <td>...</td>\n",
       "      <td>53.574922</td>\n",
       "      <td>187.642183</td>\n",
       "      <td>653.679098</td>\n",
       "      <td>0.876110</td>\n",
       "      <td>222.436688</td>\n",
       "      <td>2.071980</td>\n",
       "      <td>2458318.587</td>\n",
       "      <td>184.820424</td>\n",
       "      <td>0.550729</td>\n",
       "      <td>0</td>\n",
       "    </tr>\n",
       "  </tbody>\n",
       "</table>\n",
       "<p>4687 rows × 29 columns</p>\n",
       "</div>"
      ],
      "text/plain": [
       "      Absolute Magnitude  Est Dia in M(min)  Est Dia in M(max)  \\\n",
       "0                 21.600         127.219878         284.472297   \n",
       "1                 21.300         146.067964         326.617897   \n",
       "2                 20.300         231.502122         517.654482   \n",
       "3                 27.400           8.801465          19.680675   \n",
       "4                 21.600         127.219878         284.472297   \n",
       "...                  ...                ...                ...   \n",
       "4682              23.900          44.111820          98.637028   \n",
       "4683              28.200           6.089126          13.615700   \n",
       "4684              22.700          76.657557         171.411509   \n",
       "4685              21.800         116.025908         259.441818   \n",
       "4686              19.109         400.640618         895.859655   \n",
       "\n",
       "      Epoch Date Close Approach  Relative Velocity km per sec  \\\n",
       "0                  7.890000e+11                      6.115834   \n",
       "1                  7.890000e+11                     18.113985   \n",
       "2                  7.900000e+11                      7.590711   \n",
       "3                  7.900000e+11                     11.173875   \n",
       "4                  7.900000e+11                      9.840831   \n",
       "...                         ...                           ...   \n",
       "4682               1.470000e+12                     22.154265   \n",
       "4683               1.470000e+12                      3.225150   \n",
       "4684               1.470000e+12                      7.191642   \n",
       "4685               1.470000e+12                     11.352090   \n",
       "4686               1.470000e+12                     35.946852   \n",
       "\n",
       "      Relative Velocity km per hr  Miles per hour  Miss Dist.(Astronomical)  \\\n",
       "0                     22017.00380    13680.509940                  0.419483   \n",
       "1                     65210.34609    40519.173110                  0.383014   \n",
       "2                     27326.56018    16979.661800                  0.050956   \n",
       "3                     40225.94819    24994.839860                  0.285322   \n",
       "4                     35426.99179    22012.954980                  0.407832   \n",
       "...                           ...             ...                       ...   \n",
       "4682                  79755.35427    49556.875550                  0.041361   \n",
       "4683                  11610.53958     7214.337772                  0.006469   \n",
       "4684                  25889.91063    16086.983630                  0.061009   \n",
       "4685                  40867.52231    25393.489070                  0.260760   \n",
       "4686                 129408.66630    80409.512650                  0.462372   \n",
       "\n",
       "      Miss Dist.(lunar)  Miss Dist.(kilometers)  ...  Inclination  \\\n",
       "0            163.178711            6.275369e+07  ...     6.025981   \n",
       "1            148.992630            5.729815e+07  ...    28.412996   \n",
       "2             19.821890            7.622912e+06  ...     4.237961   \n",
       "3            110.990387            4.268362e+07  ...     7.905894   \n",
       "4            158.646713            6.101082e+07  ...    16.793382   \n",
       "...                 ...                     ...  ...          ...   \n",
       "4682          16.089413            6.187511e+06  ...    39.880491   \n",
       "4683           2.516399            9.677324e+05  ...     5.360249   \n",
       "4684          23.732393            9.126775e+06  ...     4.405467   \n",
       "4685         101.435494            3.900908e+07  ...    21.080244   \n",
       "4686         179.862671            6.916986e+07  ...    53.574922   \n",
       "\n",
       "      Asc Node Longitude  Orbital Period  Perihelion Distance  Perihelion Arg  \\\n",
       "0             314.373913      609.599786             0.808259       57.257470   \n",
       "1             136.717242      425.869294             0.718200      313.091975   \n",
       "2             259.475979      643.580228             0.950791      248.415038   \n",
       "3              57.173266      514.082140             0.983902       18.707701   \n",
       "4              84.629307      495.597821             0.967687      158.263596   \n",
       "...                  ...             ...                  ...             ...   \n",
       "4682          164.183305      457.179984             0.741558      276.395697   \n",
       "4683          345.225230      407.185767             0.996434       42.111064   \n",
       "4684           37.026468      690.054279             0.965760      274.692712   \n",
       "4685          163.802909      662.048343             1.185467      180.346090   \n",
       "4686          187.642183      653.679098             0.876110      222.436688   \n",
       "\n",
       "      Aphelion Dist  Perihelion Time  Mean Anomaly  Mean Motion  Hazardous  \n",
       "0          2.005764      2458161.642    264.837533     0.590551          1  \n",
       "1          1.497352      2457794.969    173.741112     0.845330          0  \n",
       "2          1.966857      2458120.468    292.893654     0.559371          1  \n",
       "3          1.527904      2457902.337     68.741007     0.700277          0  \n",
       "4          1.483543      2457814.455    135.142133     0.726395          1  \n",
       "...             ...              ...           ...          ...        ...  \n",
       "4682       1.581299      2457708.228    304.306024     0.787436          0  \n",
       "4683       1.153835      2458087.617    282.978786     0.884117          0  \n",
       "4684       2.090708      2458300.480    203.501147     0.521698          0  \n",
       "4685       1.787733      2458288.261    203.524965     0.543767          0  \n",
       "4686       2.071980      2458318.587    184.820424     0.550729          0  \n",
       "\n",
       "[4687 rows x 29 columns]"
      ]
     },
     "execution_count": 134,
     "metadata": {},
     "output_type": "execute_result"
    }
   ],
   "source": [
    "\n",
    "hazard = {\n",
    "    True : 1,\n",
    "    False : 0\n",
    "}\n",
    "\n",
    "\n",
    "df['Hazardous'] = df['Hazardous'].map(hazard)\n",
    "\n",
    "orb = {\n",
    "    'Earth' : 1\n",
    "}\n",
    "\n",
    "df['Orbiting Body'] = df['Orbiting Body'].map(orb)\n",
    "df"
   ]
  },
  {
   "cell_type": "code",
   "execution_count": 135,
   "metadata": {},
   "outputs": [
    {
     "data": {
      "text/plain": [
       "Index(['Absolute Magnitude', 'Est Dia in M(min)', 'Est Dia in M(max)',\n",
       "       'Epoch Date Close Approach', 'Relative Velocity km per sec',\n",
       "       'Relative Velocity km per hr', 'Miles per hour',\n",
       "       'Miss Dist.(Astronomical)', 'Miss Dist.(lunar)',\n",
       "       'Miss Dist.(kilometers)', 'Miss Dist.(miles)', 'Orbiting Body',\n",
       "       'Orbit ID', 'Orbit Uncertainity', 'Minimum Orbit Intersection',\n",
       "       'Jupiter Tisserand Invariant', 'Epoch Osculation', 'Eccentricity',\n",
       "       'Semi Major Axis', 'Inclination', 'Asc Node Longitude',\n",
       "       'Orbital Period', 'Perihelion Distance', 'Perihelion Arg',\n",
       "       'Aphelion Dist', 'Perihelion Time', 'Mean Anomaly', 'Mean Motion',\n",
       "       'Hazardous'],\n",
       "      dtype='object')"
      ]
     },
     "execution_count": 135,
     "metadata": {},
     "output_type": "execute_result"
    }
   ],
   "source": [
    "df.columns\n"
   ]
  },
  {
   "cell_type": "code",
   "execution_count": 136,
   "metadata": {},
   "outputs": [
    {
     "name": "stdout",
     "output_type": "stream",
     "text": [
      "<class 'pandas.core.frame.DataFrame'>\n",
      "RangeIndex: 4687 entries, 0 to 4686\n",
      "Data columns (total 29 columns):\n",
      " #   Column                        Non-Null Count  Dtype  \n",
      "---  ------                        --------------  -----  \n",
      " 0   Absolute Magnitude            4687 non-null   float64\n",
      " 1   Est Dia in M(min)             4687 non-null   float64\n",
      " 2   Est Dia in M(max)             4687 non-null   float64\n",
      " 3   Epoch Date Close Approach     4687 non-null   float64\n",
      " 4   Relative Velocity km per sec  4687 non-null   float64\n",
      " 5   Relative Velocity km per hr   4687 non-null   float64\n",
      " 6   Miles per hour                4687 non-null   float64\n",
      " 7   Miss Dist.(Astronomical)      4687 non-null   float64\n",
      " 8   Miss Dist.(lunar)             4687 non-null   float64\n",
      " 9   Miss Dist.(kilometers)        4687 non-null   float64\n",
      " 10  Miss Dist.(miles)             4687 non-null   float64\n",
      " 11  Orbiting Body                 4687 non-null   int64  \n",
      " 12  Orbit ID                      4687 non-null   int64  \n",
      " 13  Orbit Uncertainity            4687 non-null   int64  \n",
      " 14  Minimum Orbit Intersection    4687 non-null   float64\n",
      " 15  Jupiter Tisserand Invariant   4687 non-null   float64\n",
      " 16  Epoch Osculation              4687 non-null   float64\n",
      " 17  Eccentricity                  4687 non-null   float64\n",
      " 18  Semi Major Axis               4687 non-null   float64\n",
      " 19  Inclination                   4687 non-null   float64\n",
      " 20  Asc Node Longitude            4687 non-null   float64\n",
      " 21  Orbital Period                4687 non-null   float64\n",
      " 22  Perihelion Distance           4687 non-null   float64\n",
      " 23  Perihelion Arg                4687 non-null   float64\n",
      " 24  Aphelion Dist                 4687 non-null   float64\n",
      " 25  Perihelion Time               4687 non-null   float64\n",
      " 26  Mean Anomaly                  4687 non-null   float64\n",
      " 27  Mean Motion                   4687 non-null   float64\n",
      " 28  Hazardous                     4687 non-null   int64  \n",
      "dtypes: float64(25), int64(4)\n",
      "memory usage: 1.0 MB\n"
     ]
    },
    {
     "data": {
      "text/plain": [
       "Absolute Magnitude              0\n",
       "Est Dia in M(min)               0\n",
       "Est Dia in M(max)               0\n",
       "Epoch Date Close Approach       0\n",
       "Relative Velocity km per sec    0\n",
       "Relative Velocity km per hr     0\n",
       "Miles per hour                  0\n",
       "Miss Dist.(Astronomical)        0\n",
       "Miss Dist.(lunar)               0\n",
       "Miss Dist.(kilometers)          0\n",
       "Miss Dist.(miles)               0\n",
       "Orbiting Body                   0\n",
       "Orbit ID                        0\n",
       "Orbit Uncertainity              0\n",
       "Minimum Orbit Intersection      0\n",
       "Jupiter Tisserand Invariant     0\n",
       "Epoch Osculation                0\n",
       "Eccentricity                    0\n",
       "Semi Major Axis                 0\n",
       "Inclination                     0\n",
       "Asc Node Longitude              0\n",
       "Orbital Period                  0\n",
       "Perihelion Distance             0\n",
       "Perihelion Arg                  0\n",
       "Aphelion Dist                   0\n",
       "Perihelion Time                 0\n",
       "Mean Anomaly                    0\n",
       "Mean Motion                     0\n",
       "Hazardous                       0\n",
       "dtype: int64"
      ]
     },
     "execution_count": 136,
     "metadata": {},
     "output_type": "execute_result"
    }
   ],
   "source": [
    "df.info()\n",
    "df.isnull().sum()\n"
   ]
  },
  {
   "cell_type": "code",
   "execution_count": 137,
   "metadata": {},
   "outputs": [],
   "source": [
    "df.columns\n",
    "X = ['Absolute Magnitude', 'Est Dia in M(min)', 'Est Dia in M(max)',\n",
    "        'Epoch Date Close Approach',\n",
    "       'Relative Velocity km per sec', 'Relative Velocity km per hr',\n",
    "       \n",
    "       'Miles per hour', 'Miss Dist.(Astronomical)', 'Miss Dist.(lunar)',\n",
    "       'Miss Dist.(kilometers)', 'Miss Dist.(miles)', 'Orbiting Body',\n",
    "       'Orbit ID', 'Orbit Uncertainity',\n",
    "       'Minimum Orbit Intersection', 'Jupiter Tisserand Invariant',\n",
    "       'Epoch Osculation', 'Eccentricity', 'Semi Major Axis', 'Inclination',\n",
    "       'Asc Node Longitude', 'Orbital Period', 'Perihelion Distance',\n",
    "       'Perihelion Arg', 'Aphelion Dist', 'Perihelion Time', 'Mean Anomaly',\n",
    "       'Mean Motion']\n",
    "\n",
    "Y = ['Hazardous']\n"
   ]
  },
  {
   "cell_type": "markdown",
   "metadata": {},
   "source": [
    "# Analysisng dataset"
   ]
  },
  {
   "cell_type": "code",
   "execution_count": 138,
   "metadata": {},
   "outputs": [
    {
     "data": {
      "text/plain": [
       "[Text(0.5217391304347826, 0.9375, 'Minimum Orbit Intersection <= 0.05\\ngini = 0.27\\nsamples = 4687\\nvalue = [3932, 755]'),\n",
       " Text(0.4782608695652174, 0.8125, 'Est Dia in M(max) <= 232.861\\ngini = 0.431\\nsamples = 2406\\nvalue = [1651, 755]'),\n",
       " Text(0.2391304347826087, 0.6875, 'Est Dia in M(max) <= 210.938\\ngini = 0.014\\nsamples = 1654\\nvalue = [1642, 12]'),\n",
       " Text(0.13043478260869565, 0.5625, 'Perihelion Distance <= 0.437\\ngini = 0.001\\nsamples = 1611\\nvalue = [1610, 1]'),\n",
       " Text(0.08695652173913043, 0.4375, 'Perihelion Distance <= 0.433\\ngini = 0.03\\nsamples = 65\\nvalue = [64, 1]'),\n",
       " Text(0.043478260869565216, 0.3125, 'gini = 0.0\\nsamples = 64\\nvalue = [64, 0]'),\n",
       " Text(0.13043478260869565, 0.3125, 'gini = 0.0\\nsamples = 1\\nvalue = [0, 1]'),\n",
       " Text(0.17391304347826086, 0.4375, 'gini = 0.0\\nsamples = 1546\\nvalue = [1546, 0]'),\n",
       " Text(0.34782608695652173, 0.5625, 'Orbit Uncertainity <= 2.5\\ngini = 0.381\\nsamples = 43\\nvalue = [32, 11]'),\n",
       " Text(0.30434782608695654, 0.4375, 'Orbital Period <= 387.494\\ngini = 0.499\\nsamples = 23\\nvalue = [12, 11]'),\n",
       " Text(0.21739130434782608, 0.3125, 'Miss Dist.(kilometers) <= 67029004.0\\ngini = 0.32\\nsamples = 10\\nvalue = [2, 8]'),\n",
       " Text(0.17391304347826086, 0.1875, 'gini = 0.0\\nsamples = 8\\nvalue = [0, 8]'),\n",
       " Text(0.2608695652173913, 0.1875, 'gini = 0.0\\nsamples = 2\\nvalue = [2, 0]'),\n",
       " Text(0.391304347826087, 0.3125, 'Mean Anomaly <= 351.851\\ngini = 0.355\\nsamples = 13\\nvalue = [10, 3]'),\n",
       " Text(0.34782608695652173, 0.1875, 'Perihelion Time <= 2458207.0\\ngini = 0.165\\nsamples = 11\\nvalue = [10, 1]'),\n",
       " Text(0.30434782608695654, 0.0625, 'gini = 0.0\\nsamples = 10\\nvalue = [10, 0]'),\n",
       " Text(0.391304347826087, 0.0625, 'gini = 0.0\\nsamples = 1\\nvalue = [0, 1]'),\n",
       " Text(0.43478260869565216, 0.1875, 'gini = 0.0\\nsamples = 2\\nvalue = [0, 2]'),\n",
       " Text(0.391304347826087, 0.4375, 'gini = 0.0\\nsamples = 20\\nvalue = [20, 0]'),\n",
       " Text(0.717391304347826, 0.6875, 'Est Dia in M(max) <= 238.869\\ngini = 0.024\\nsamples = 752\\nvalue = [9, 743]'),\n",
       " Text(0.6086956521739131, 0.5625, 'Epoch Date Close Approach <= 1115000012800.0\\ngini = 0.498\\nsamples = 17\\nvalue = [8, 9]'),\n",
       " Text(0.5217391304347826, 0.4375, 'Orbital Period <= 251.338\\ngini = 0.198\\nsamples = 9\\nvalue = [1, 8]'),\n",
       " Text(0.4782608695652174, 0.3125, 'gini = 0.0\\nsamples = 1\\nvalue = [1, 0]'),\n",
       " Text(0.5652173913043478, 0.3125, 'gini = 0.0\\nsamples = 8\\nvalue = [0, 8]'),\n",
       " Text(0.6956521739130435, 0.4375, 'Asc Node Longitude <= 268.774\\ngini = 0.219\\nsamples = 8\\nvalue = [7, 1]'),\n",
       " Text(0.6521739130434783, 0.3125, 'gini = 0.0\\nsamples = 7\\nvalue = [7, 0]'),\n",
       " Text(0.7391304347826086, 0.3125, 'gini = 0.0\\nsamples = 1\\nvalue = [0, 1]'),\n",
       " Text(0.8260869565217391, 0.5625, 'Absolute Magnitude <= 21.85\\ngini = 0.003\\nsamples = 735\\nvalue = [1, 734]'),\n",
       " Text(0.782608695652174, 0.4375, 'gini = 0.0\\nsamples = 714\\nvalue = [0, 714]'),\n",
       " Text(0.8695652173913043, 0.4375, 'Perihelion Time <= 2458169.375\\ngini = 0.091\\nsamples = 21\\nvalue = [1, 20]'),\n",
       " Text(0.8260869565217391, 0.3125, 'gini = 0.0\\nsamples = 19\\nvalue = [0, 19]'),\n",
       " Text(0.9130434782608695, 0.3125, 'Relative Velocity km per sec <= 12.205\\ngini = 0.5\\nsamples = 2\\nvalue = [1, 1]'),\n",
       " Text(0.8695652173913043, 0.1875, 'gini = 0.0\\nsamples = 1\\nvalue = [0, 1]'),\n",
       " Text(0.9565217391304348, 0.1875, 'gini = 0.0\\nsamples = 1\\nvalue = [1, 0]'),\n",
       " Text(0.5652173913043478, 0.8125, 'gini = 0.0\\nsamples = 2281\\nvalue = [2281, 0]')]"
      ]
     },
     "execution_count": 138,
     "metadata": {},
     "output_type": "execute_result"
    },
    {
     "data": {
      "image/png": "[encoded data removed]",
      "text/plain": [
       "<Figure size 640x480 with 1 Axes>"
      ]
     },
     "metadata": {},
     "output_type": "display_data"
    }
   ],
   "source": [
    "from sklearn.tree import DecisionTreeClassifier\n",
    "from sklearn import tree\n",
    "from sklearn.model_selection import train_test_split\n",
    "import matplotlib.pyplot as plt\n",
    "\n",
    "Features = df[X]\n",
    "Target = df[Y]\n",
    " \n",
    " \n",
    "\n",
    "clf = DecisionTreeClassifier()\n",
    "clf.fit(Features, Target)\n",
    "tree.plot_tree(clf, feature_names=X)\n"
   ]
  },
  {
   "cell_type": "markdown",
   "metadata": {},
   "source": [
    "# Splitting Dataset"
   ]
  },
  {
   "cell_type": "code",
   "execution_count": 139,
   "metadata": {},
   "outputs": [],
   "source": [
    "from sklearn import tree\n",
    "from sklearn.tree import DecisionTreeClassifier\n",
    "import matplotlib.pyplot as plt\n",
    "\n",
    "X_train,X_test,  Y_train, Y_test = train_test_split(Features, Target, \n",
    "                                                    test_size=0.25, \n",
    "                                                    random_state=45,\n",
    "                                                    shuffle=True)\n"
   ]
  },
  {
   "cell_type": "markdown",
   "metadata": {},
   "source": [
    "# Support Vector Machine"
   ]
  },
  {
   "cell_type": "code",
   "execution_count": 140,
   "metadata": {},
   "outputs": [
    {
     "name": "stderr",
     "output_type": "stream",
     "text": [
      "/Library/Frameworks/Python.framework/Versions/3.11/lib/python3.11/site-packages/sklearn/utils/validation.py:1183: DataConversionWarning: A column-vector y was passed when a 1d array was expected. Please change the shape of y to (n_samples, ), for example using ravel().\n",
      "  y = column_or_1d(y, warn=True)\n"
     ]
    },
    {
     "data": {
      "text/html": [
       "<style>#sk-container-id-8 {color: black;}#sk-container-id-8 pre{padding: 0;}#sk-container-id-8 div.sk-toggleable {background-color: white;}#sk-container-id-8 label.sk-toggleable__label {cursor: pointer;display: block;width: 100%;margin-bottom: 0;padding: 0.3em;box-sizing: border-box;text-align: center;}#sk-container-id-8 label.sk-toggleable__label-arrow:before {content: \"▸\";float: left;margin-right: 0.25em;color: #696969;}#sk-container-id-8 label.sk-toggleable__label-arrow:hover:before {color: black;}#sk-container-id-8 div.sk-estimator:hover label.sk-toggleable__label-arrow:before {color: black;}#sk-container-id-8 div.sk-toggleable__content {max-height: 0;max-width: 0;overflow: hidden;text-align: left;background-color: #f0f8ff;}#sk-container-id-8 div.sk-toggleable__content pre {margin: 0.2em;color: black;border-radius: 0.25em;background-color: #f0f8ff;}#sk-container-id-8 input.sk-toggleable__control:checked~div.sk-toggleable__content {max-height: 200px;max-width: 100%;overflow: auto;}#sk-container-id-8 input.sk-toggleable__control:checked~label.sk-toggleable__label-arrow:before {content: \"▾\";}#sk-container-id-8 div.sk-estimator input.sk-toggleable__control:checked~label.sk-toggleable__label {background-color: #d4ebff;}#sk-container-id-8 div.sk-label input.sk-toggleable__control:checked~label.sk-toggleable__label {background-color: #d4ebff;}#sk-container-id-8 input.sk-hidden--visually {border: 0;clip: rect(1px 1px 1px 1px);clip: rect(1px, 1px, 1px, 1px);height: 1px;margin: -1px;overflow: hidden;padding: 0;position: absolute;width: 1px;}#sk-container-id-8 div.sk-estimator {font-family: monospace;background-color: #f0f8ff;border: 1px dotted black;border-radius: 0.25em;box-sizing: border-box;margin-bottom: 0.5em;}#sk-container-id-8 div.sk-estimator:hover {background-color: #d4ebff;}#sk-container-id-8 div.sk-parallel-item::after {content: \"\";width: 100%;border-bottom: 1px solid gray;flex-grow: 1;}#sk-container-id-8 div.sk-label:hover label.sk-toggleable__label {background-color: #d4ebff;}#sk-container-id-8 div.sk-serial::before {content: \"\";position: absolute;border-left: 1px solid gray;box-sizing: border-box;top: 0;bottom: 0;left: 50%;z-index: 0;}#sk-container-id-8 div.sk-serial {display: flex;flex-direction: column;align-items: center;background-color: white;padding-right: 0.2em;padding-left: 0.2em;position: relative;}#sk-container-id-8 div.sk-item {position: relative;z-index: 1;}#sk-container-id-8 div.sk-parallel {display: flex;align-items: stretch;justify-content: center;background-color: white;position: relative;}#sk-container-id-8 div.sk-item::before, #sk-container-id-8 div.sk-parallel-item::before {content: \"\";position: absolute;border-left: 1px solid gray;box-sizing: border-box;top: 0;bottom: 0;left: 50%;z-index: -1;}#sk-container-id-8 div.sk-parallel-item {display: flex;flex-direction: column;z-index: 1;position: relative;background-color: white;}#sk-container-id-8 div.sk-parallel-item:first-child::after {align-self: flex-end;width: 50%;}#sk-container-id-8 div.sk-parallel-item:last-child::after {align-self: flex-start;width: 50%;}#sk-container-id-8 div.sk-parallel-item:only-child::after {width: 0;}#sk-container-id-8 div.sk-dashed-wrapped {border: 1px dashed gray;margin: 0 0.4em 0.5em 0.4em;box-sizing: border-box;padding-bottom: 0.4em;background-color: white;}#sk-container-id-8 div.sk-label label {font-family: monospace;font-weight: bold;display: inline-block;line-height: 1.2em;}#sk-container-id-8 div.sk-label-container {text-align: center;}#sk-container-id-8 div.sk-container {/* jupyter's `normalize.less` sets `[hidden] { display: none; }` but bootstrap.min.css set `[hidden] { display: none !important; }` so we also need the `!important` here to be able to override the default hidden behavior on the sphinx rendered scikit-learn.org. See: https://github.com/scikit-learn/scikit-learn/issues/21755 */display: inline-block !important;position: relative;}#sk-container-id-8 div.sk-text-repr-fallback {display: none;}</style><div id=\"sk-container-id-8\" class=\"sk-top-container\"><div class=\"sk-text-repr-fallback\"><pre>SVC(kernel=&#x27;poly&#x27;)</pre><b>In a Jupyter environment, please rerun this cell to show the HTML representation or trust the notebook. <br />On GitHub, the HTML representation is unable to render, please try loading this page with nbviewer.org.</b></div><div class=\"sk-container\" hidden><div class=\"sk-item\"><div class=\"sk-estimator sk-toggleable\"><input class=\"sk-toggleable__control sk-hidden--visually\" id=\"sk-estimator-id-8\" type=\"checkbox\" checked><label for=\"sk-estimator-id-8\" class=\"sk-toggleable__label sk-toggleable__label-arrow\">SVC</label><div class=\"sk-toggleable__content\"><pre>SVC(kernel=&#x27;poly&#x27;)</pre></div></div></div></div></div>"
      ],
      "text/plain": [
       "SVC(kernel='poly')"
      ]
     },
     "execution_count": 140,
     "metadata": {},
     "output_type": "execute_result"
    }
   ],
   "source": [
    "from sklearn.svm import SVC\n",
    "svc_clf = SVC(kernel='poly')\n",
    "\n",
    "svc_clf.fit(X_train, Y_train)"
   ]
  },
  {
   "cell_type": "code",
   "execution_count": 146,
   "metadata": {},
   "outputs": [
    {
     "name": "stdout",
     "output_type": "stream",
     "text": [
      "Accuracy for training set :  0.8378378378378378\n"
     ]
    }
   ],
   "source": [
    "from sklearn.metrics import accuracy_score\n",
    "predicted = svc_clf.predict(X_train)\n",
    "print(\"Accuracy for training set : \", (accuracy_score(Y_train, predicted)))"
   ]
  },
  {
   "cell_type": "code",
   "execution_count": 147,
   "metadata": {},
   "outputs": [
    {
     "name": "stdout",
     "output_type": "stream",
     "text": [
      "              precision    recall  f1-score   support\n",
      "\n",
      "           0       0.84      1.00      0.91      2945\n",
      "           1       0.00      0.00      0.00       570\n",
      "\n",
      "    accuracy                           0.84      3515\n",
      "   macro avg       0.42      0.50      0.46      3515\n",
      "weighted avg       0.70      0.84      0.76      3515\n",
      "\n"
     ]
    },
    {
     "name": "stderr",
     "output_type": "stream",
     "text": [
      "/Library/Frameworks/Python.framework/Versions/3.11/lib/python3.11/site-packages/sklearn/metrics/_classification.py:1469: UndefinedMetricWarning: Precision and F-score are ill-defined and being set to 0.0 in labels with no predicted samples. Use `zero_division` parameter to control this behavior.\n",
      "  _warn_prf(average, modifier, msg_start, len(result))\n",
      "/Library/Frameworks/Python.framework/Versions/3.11/lib/python3.11/site-packages/sklearn/metrics/_classification.py:1469: UndefinedMetricWarning: Precision and F-score are ill-defined and being set to 0.0 in labels with no predicted samples. Use `zero_division` parameter to control this behavior.\n",
      "  _warn_prf(average, modifier, msg_start, len(result))\n",
      "/Library/Frameworks/Python.framework/Versions/3.11/lib/python3.11/site-packages/sklearn/metrics/_classification.py:1469: UndefinedMetricWarning: Precision and F-score are ill-defined and being set to 0.0 in labels with no predicted samples. Use `zero_division` parameter to control this behavior.\n",
      "  _warn_prf(average, modifier, msg_start, len(result))\n"
     ]
    }
   ],
   "source": [
    "from sklearn.metrics import classification_report\n",
    "print( classification_report(Y_train, predicted))"
   ]
  },
  {
   "cell_type": "code",
   "execution_count": 160,
   "metadata": {},
   "outputs": [
    {
     "ename": "ValueError",
     "evalue": "Found input variables with inconsistent numbers of samples: [1172, 3515]",
     "output_type": "error",
     "traceback": [
      "\u001b[0;31m---------------------------------------------------------------------------\u001b[0m",
      "\u001b[0;31mValueError\u001b[0m                                Traceback (most recent call last)",
      "Cell \u001b[0;32mIn[160], line 2\u001b[0m\n\u001b[1;32m      1\u001b[0m \u001b[38;5;28;01mfrom\u001b[39;00m \u001b[38;5;21;01msklearn\u001b[39;00m\u001b[38;5;21;01m.\u001b[39;00m\u001b[38;5;21;01mmetrics\u001b[39;00m \u001b[38;5;28;01mimport\u001b[39;00m confusion_matrix\n\u001b[0;32m----> 2\u001b[0m \u001b[43mconfusion_matrix\u001b[49m\u001b[43m(\u001b[49m\u001b[43mY_test\u001b[49m\u001b[43m,\u001b[49m\u001b[43m \u001b[49m\u001b[43mpredicted\u001b[49m\u001b[43m)\u001b[49m\n",
      "File \u001b[0;32m/Library/Frameworks/Python.framework/Versions/3.11/lib/python3.11/site-packages/sklearn/utils/_param_validation.py:211\u001b[0m, in \u001b[0;36mvalidate_params.<locals>.decorator.<locals>.wrapper\u001b[0;34m(*args, **kwargs)\u001b[0m\n\u001b[1;32m    205\u001b[0m \u001b[38;5;28;01mtry\u001b[39;00m:\n\u001b[1;32m    206\u001b[0m     \u001b[38;5;28;01mwith\u001b[39;00m config_context(\n\u001b[1;32m    207\u001b[0m         skip_parameter_validation\u001b[38;5;241m=\u001b[39m(\n\u001b[1;32m    208\u001b[0m             prefer_skip_nested_validation \u001b[38;5;129;01mor\u001b[39;00m global_skip_validation\n\u001b[1;32m    209\u001b[0m         )\n\u001b[1;32m    210\u001b[0m     ):\n\u001b[0;32m--> 211\u001b[0m         \u001b[38;5;28;01mreturn\u001b[39;00m \u001b[43mfunc\u001b[49m\u001b[43m(\u001b[49m\u001b[38;5;241;43m*\u001b[39;49m\u001b[43margs\u001b[49m\u001b[43m,\u001b[49m\u001b[43m \u001b[49m\u001b[38;5;241;43m*\u001b[39;49m\u001b[38;5;241;43m*\u001b[39;49m\u001b[43mkwargs\u001b[49m\u001b[43m)\u001b[49m\n\u001b[1;32m    212\u001b[0m \u001b[38;5;28;01mexcept\u001b[39;00m InvalidParameterError \u001b[38;5;28;01mas\u001b[39;00m e:\n\u001b[1;32m    213\u001b[0m     \u001b[38;5;66;03m# When the function is just a wrapper around an estimator, we allow\u001b[39;00m\n\u001b[1;32m    214\u001b[0m     \u001b[38;5;66;03m# the function to delegate validation to the estimator, but we replace\u001b[39;00m\n\u001b[1;32m    215\u001b[0m     \u001b[38;5;66;03m# the name of the estimator by the name of the function in the error\u001b[39;00m\n\u001b[1;32m    216\u001b[0m     \u001b[38;5;66;03m# message to avoid confusion.\u001b[39;00m\n\u001b[1;32m    217\u001b[0m     msg \u001b[38;5;241m=\u001b[39m re\u001b[38;5;241m.\u001b[39msub(\n\u001b[1;32m    218\u001b[0m         \u001b[38;5;124mr\u001b[39m\u001b[38;5;124m\"\u001b[39m\u001b[38;5;124mparameter of \u001b[39m\u001b[38;5;124m\\\u001b[39m\u001b[38;5;124mw+ must be\u001b[39m\u001b[38;5;124m\"\u001b[39m,\n\u001b[1;32m    219\u001b[0m         \u001b[38;5;124mf\u001b[39m\u001b[38;5;124m\"\u001b[39m\u001b[38;5;124mparameter of \u001b[39m\u001b[38;5;132;01m{\u001b[39;00mfunc\u001b[38;5;241m.\u001b[39m\u001b[38;5;18m__qualname__\u001b[39m\u001b[38;5;132;01m}\u001b[39;00m\u001b[38;5;124m must be\u001b[39m\u001b[38;5;124m\"\u001b[39m,\n\u001b[1;32m    220\u001b[0m         \u001b[38;5;28mstr\u001b[39m(e),\n\u001b[1;32m    221\u001b[0m     )\n",
      "File \u001b[0;32m/Library/Frameworks/Python.framework/Versions/3.11/lib/python3.11/site-packages/sklearn/metrics/_classification.py:326\u001b[0m, in \u001b[0;36mconfusion_matrix\u001b[0;34m(y_true, y_pred, labels, sample_weight, normalize)\u001b[0m\n\u001b[1;32m    231\u001b[0m \u001b[38;5;129m@validate_params\u001b[39m(\n\u001b[1;32m    232\u001b[0m     {\n\u001b[1;32m    233\u001b[0m         \u001b[38;5;124m\"\u001b[39m\u001b[38;5;124my_true\u001b[39m\u001b[38;5;124m\"\u001b[39m: [\u001b[38;5;124m\"\u001b[39m\u001b[38;5;124marray-like\u001b[39m\u001b[38;5;124m\"\u001b[39m],\n\u001b[0;32m   (...)\u001b[0m\n\u001b[1;32m    242\u001b[0m     y_true, y_pred, \u001b[38;5;241m*\u001b[39m, labels\u001b[38;5;241m=\u001b[39m\u001b[38;5;28;01mNone\u001b[39;00m, sample_weight\u001b[38;5;241m=\u001b[39m\u001b[38;5;28;01mNone\u001b[39;00m, normalize\u001b[38;5;241m=\u001b[39m\u001b[38;5;28;01mNone\u001b[39;00m\n\u001b[1;32m    243\u001b[0m ):\n\u001b[1;32m    244\u001b[0m \u001b[38;5;250m    \u001b[39m\u001b[38;5;124;03m\"\"\"Compute confusion matrix to evaluate the accuracy of a classification.\u001b[39;00m\n\u001b[1;32m    245\u001b[0m \n\u001b[1;32m    246\u001b[0m \u001b[38;5;124;03m    By definition a confusion matrix :math:`C` is such that :math:`C_{i, j}`\u001b[39;00m\n\u001b[0;32m   (...)\u001b[0m\n\u001b[1;32m    324\u001b[0m \u001b[38;5;124;03m    (0, 2, 1, 1)\u001b[39;00m\n\u001b[1;32m    325\u001b[0m \u001b[38;5;124;03m    \"\"\"\u001b[39;00m\n\u001b[0;32m--> 326\u001b[0m     y_type, y_true, y_pred \u001b[38;5;241m=\u001b[39m \u001b[43m_check_targets\u001b[49m\u001b[43m(\u001b[49m\u001b[43my_true\u001b[49m\u001b[43m,\u001b[49m\u001b[43m \u001b[49m\u001b[43my_pred\u001b[49m\u001b[43m)\u001b[49m\n\u001b[1;32m    327\u001b[0m     \u001b[38;5;28;01mif\u001b[39;00m y_type \u001b[38;5;129;01mnot\u001b[39;00m \u001b[38;5;129;01min\u001b[39;00m (\u001b[38;5;124m\"\u001b[39m\u001b[38;5;124mbinary\u001b[39m\u001b[38;5;124m\"\u001b[39m, \u001b[38;5;124m\"\u001b[39m\u001b[38;5;124mmulticlass\u001b[39m\u001b[38;5;124m\"\u001b[39m):\n\u001b[1;32m    328\u001b[0m         \u001b[38;5;28;01mraise\u001b[39;00m \u001b[38;5;167;01mValueError\u001b[39;00m(\u001b[38;5;124m\"\u001b[39m\u001b[38;5;132;01m%s\u001b[39;00m\u001b[38;5;124m is not supported\u001b[39m\u001b[38;5;124m\"\u001b[39m \u001b[38;5;241m%\u001b[39m y_type)\n",
      "File \u001b[0;32m/Library/Frameworks/Python.framework/Versions/3.11/lib/python3.11/site-packages/sklearn/metrics/_classification.py:84\u001b[0m, in \u001b[0;36m_check_targets\u001b[0;34m(y_true, y_pred)\u001b[0m\n\u001b[1;32m     57\u001b[0m \u001b[38;5;28;01mdef\u001b[39;00m \u001b[38;5;21m_check_targets\u001b[39m(y_true, y_pred):\n\u001b[1;32m     58\u001b[0m \u001b[38;5;250m    \u001b[39m\u001b[38;5;124;03m\"\"\"Check that y_true and y_pred belong to the same classification task.\u001b[39;00m\n\u001b[1;32m     59\u001b[0m \n\u001b[1;32m     60\u001b[0m \u001b[38;5;124;03m    This converts multiclass or binary types to a common shape, and raises a\u001b[39;00m\n\u001b[0;32m   (...)\u001b[0m\n\u001b[1;32m     82\u001b[0m \u001b[38;5;124;03m    y_pred : array or indicator matrix\u001b[39;00m\n\u001b[1;32m     83\u001b[0m \u001b[38;5;124;03m    \"\"\"\u001b[39;00m\n\u001b[0;32m---> 84\u001b[0m     \u001b[43mcheck_consistent_length\u001b[49m\u001b[43m(\u001b[49m\u001b[43my_true\u001b[49m\u001b[43m,\u001b[49m\u001b[43m \u001b[49m\u001b[43my_pred\u001b[49m\u001b[43m)\u001b[49m\n\u001b[1;32m     85\u001b[0m     type_true \u001b[38;5;241m=\u001b[39m type_of_target(y_true, input_name\u001b[38;5;241m=\u001b[39m\u001b[38;5;124m\"\u001b[39m\u001b[38;5;124my_true\u001b[39m\u001b[38;5;124m\"\u001b[39m)\n\u001b[1;32m     86\u001b[0m     type_pred \u001b[38;5;241m=\u001b[39m type_of_target(y_pred, input_name\u001b[38;5;241m=\u001b[39m\u001b[38;5;124m\"\u001b[39m\u001b[38;5;124my_pred\u001b[39m\u001b[38;5;124m\"\u001b[39m)\n",
      "File \u001b[0;32m/Library/Frameworks/Python.framework/Versions/3.11/lib/python3.11/site-packages/sklearn/utils/validation.py:407\u001b[0m, in \u001b[0;36mcheck_consistent_length\u001b[0;34m(*arrays)\u001b[0m\n\u001b[1;32m    405\u001b[0m uniques \u001b[38;5;241m=\u001b[39m np\u001b[38;5;241m.\u001b[39munique(lengths)\n\u001b[1;32m    406\u001b[0m \u001b[38;5;28;01mif\u001b[39;00m \u001b[38;5;28mlen\u001b[39m(uniques) \u001b[38;5;241m>\u001b[39m \u001b[38;5;241m1\u001b[39m:\n\u001b[0;32m--> 407\u001b[0m     \u001b[38;5;28;01mraise\u001b[39;00m \u001b[38;5;167;01mValueError\u001b[39;00m(\n\u001b[1;32m    408\u001b[0m         \u001b[38;5;124m\"\u001b[39m\u001b[38;5;124mFound input variables with inconsistent numbers of samples: \u001b[39m\u001b[38;5;132;01m%r\u001b[39;00m\u001b[38;5;124m\"\u001b[39m\n\u001b[1;32m    409\u001b[0m         \u001b[38;5;241m%\u001b[39m [\u001b[38;5;28mint\u001b[39m(l) \u001b[38;5;28;01mfor\u001b[39;00m l \u001b[38;5;129;01min\u001b[39;00m lengths]\n\u001b[1;32m    410\u001b[0m     )\n",
      "\u001b[0;31mValueError\u001b[0m: Found input variables with inconsistent numbers of samples: [1172, 3515]"
     ]
    }
   ],
   "source": [
    "from sklearn.metrics import confusion_matrix\n",
    "confusion_matrix(Y_test, predicted)"
   ]
  },
  {
   "cell_type": "markdown",
   "metadata": {},
   "source": [
    "# Decision Tree"
   ]
  },
  {
   "cell_type": "code",
   "execution_count": null,
   "metadata": {},
   "outputs": [
    {
     "data": {
      "text/plain": [
       "[Text(0.6, 0.8333333333333334, 'Minimum Orbit Intersection <= 0.05\\ngini = 0.272\\nsamples = 3515\\nvalue = [2945, 570]'),\n",
       " Text(0.4, 0.5, 'Absolute Magnitude <= 21.95\\ngini = 0.431\\nsamples = 1812\\nvalue = [1242, 570]'),\n",
       " Text(0.2, 0.16666666666666666, 'gini = 0.0\\nsamples = 555\\nvalue = [0, 555]'),\n",
       " Text(0.6, 0.16666666666666666, 'gini = 0.024\\nsamples = 1257\\nvalue = [1242, 15]'),\n",
       " Text(0.8, 0.5, 'gini = 0.0\\nsamples = 1703\\nvalue = [1703, 0]')]"
      ]
     },
     "execution_count": 131,
     "metadata": {},
     "output_type": "execute_result"
    },
    {
     "data": {
      "image/png": "[encoded data removed]",
      "text/plain": [
       "<Figure size 640x480 with 1 Axes>"
      ]
     },
     "metadata": {},
     "output_type": "display_data"
    }
   ],
   "source": [
    "from sklearn.tree import DecisionTreeClassifier\n",
    "from sklearn import tree\n",
    "import matplotlib.pyplot as plt\n",
    "\n",
    "clf.fit(X_train, Y_train)\n",
    "tree.plot_tree(clf, feature_names=X)"
   ]
  },
  {
   "cell_type": "code",
   "execution_count": 161,
   "metadata": {},
   "outputs": [
    {
     "name": "stdout",
     "output_type": "stream",
     "text": [
      "1.0\n"
     ]
    }
   ],
   "source": [
    "from sklearn.metrics import accuracy_score\n",
    "predicted =  clf.predict(X_train)\n",
    "print(accuracy_score(Y_train, predicted))"
   ]
  },
  {
   "cell_type": "code",
   "execution_count": 163,
   "metadata": {},
   "outputs": [
    {
     "name": "stdout",
     "output_type": "stream",
     "text": [
      "1.0\n"
     ]
    }
   ],
   "source": [
    "from sklearn.metrics import accuracy_score\n",
    "predicted =  clf.predict(X_test)\n",
    "print(accuracy_score(Y_test, predicted))"
   ]
  },
  {
   "cell_type": "markdown",
   "metadata": {},
   "source": [
    "### Classification report"
   ]
  },
  {
   "cell_type": "code",
   "execution_count": 165,
   "metadata": {},
   "outputs": [
    {
     "name": "stdout",
     "output_type": "stream",
     "text": [
      "Classification report : \n",
      "              precision    recall  f1-score   support\n",
      "\n",
      "           0       1.00      1.00      1.00       987\n",
      "           1       1.00      1.00      1.00       185\n",
      "\n",
      "    accuracy                           1.00      1172\n",
      "   macro avg       1.00      1.00      1.00      1172\n",
      "weighted avg       1.00      1.00      1.00      1172\n",
      "\n"
     ]
    }
   ],
   "source": [
    "print(\"Classification report : \")\n",
    "from sklearn.metrics import classification_report\n",
    "\n",
    "print(classification_report(Y_test, predicted))"
   ]
  },
  {
   "cell_type": "markdown",
   "metadata": {},
   "source": [
    "### Confusion matrix"
   ]
  },
  {
   "cell_type": "code",
   "execution_count": 166,
   "metadata": {},
   "outputs": [
    {
     "name": "stdout",
     "output_type": "stream",
     "text": [
      "Confiusion Matrix : \n"
     ]
    },
    {
     "data": {
      "text/plain": [
       "array([[987,   0],\n",
       "       [  0, 185]])"
      ]
     },
     "execution_count": 166,
     "metadata": {},
     "output_type": "execute_result"
    }
   ],
   "source": [
    "print(\"Confiusion Matrix : \")\n",
    "from sklearn.metrics import confusion_matrix\n",
    "confusion_matrix(Y_test, predicted)"
   ]
  },
  {
   "cell_type": "code",
   "execution_count": null,
   "metadata": {},
   "outputs": [],
   "source": []
  }
 ],
 "metadata": {
  "kernelspec": {
   "display_name": "Python 3",
   "language": "python",
   "name": "python3"
  },
  "language_info": {
   "codemirror_mode": {
    "name": "ipython",
    "version": 3
   },
   "file_extension": ".py",
   "mimetype": "text/x-python",
   "name": "python",
   "nbconvert_exporter": "python",
   "pygments_lexer": "ipython3",
   "version": "3.11.5"
  }
 },
 "nbformat": 4,
 "nbformat_minor": 2
}
