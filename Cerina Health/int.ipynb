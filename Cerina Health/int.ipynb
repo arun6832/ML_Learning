{
 "cells": [
  {
   "cell_type": "code",
   "execution_count": 29,
   "metadata": {},
   "outputs": [
    {
     "name": "stdout",
     "output_type": "stream",
     "text": [
      "[1, 3, 2, 0.3333333333333333, 3]\n"
     ]
    }
   ],
   "source": [
    "count=[0,1,3,4,0,0,0,0,0,0,0,0,0,0,0,0,0,0,0,0,0,0,0,0,0,0,0,0,0,0,0,0,0,0,0,0,0,0,0,0,0,0,0,0,0,0,0,0,0,0,0,0,0,0,0,0,0,0,0,0,0,0,0,0,0,0,0,0,0,0,0,0,0,0,0,0,0,0,0,0,0,0,0,0,0,0,0,0,0,0,0,0,0,0,0,0,0,0,0,0,0,0,0,0,0,0,0,0,0,0,0,0,0,0,0,0,0,0,0,0,0,0,0,0,0,0,0,0,0,0,0,0,0,0,0,0,0,0,0,0,0,0,0,0,0,0,0,0,0,0,0,0,0,0,0,0,0,0,0,0,0,0,0,0,0,0,0,0,0,0,0,0,0,0,0,0,0,0,0,0,0,0,0,0,0,0,0,0,0,0,0,0,0,0,0,0,0,0,0,0,0,0,0,0,0,0,0,0,0,0,0,0,0,0,0,0,0,0,0,0,0,0,0,0,0,0,0,0,0,0,0,0,0,0,0,0,0,0,0,0,0,0,0,0,0,0]\n",
    "def calculate_statistics(count):\n",
    "    minimum=float('inf')\n",
    "    maximum=float('-inf')\n",
    "    total_sum=0\n",
    "    total_count=0\n",
    "    mode_count=0\n",
    "    mode=0\n",
    "\n",
    "    for i,freq in enumerate(count):\n",
    "        if freq>0:\n",
    "            minimum=min(minimum,i)\n",
    "            maximum=max(maximum,i)\n",
    "            total_count+=freq\n",
    "            total_sum+=i*freq\n",
    "            if freq>mode_count:\n",
    "                mode_count=freq\n",
    "                mode=i\n",
    "\n",
    "    mean=total_sum/total_count if total_count>0 else 0\n",
    "\n",
    "    if total_count%2==0:\n",
    "        mid1=None\n",
    "        mid2=None\n",
    "        count_so_far=0\n",
    "        for i,freq in enumerate(count):\n",
    "            count_so_far+=freq\n",
    "            if mid1 is None and count_so_far>=total_count//2:\n",
    "                mid1=i\n",
    "            if mid2 is None and count_so_far>=total_count//2+1:\n",
    "                mid2=i\n",
    "                break\n",
    "        median=(mid1/mid2)/2 if mid1 is not None and mid2 is not None else 0\n",
    "    else:\n",
    "        count_so_far=0\n",
    "        for i ,freq in enumerate(count):\n",
    "            count_so_far+=freq\n",
    "            if count_so_far>total_count//2:\n",
    "                median=i\n",
    "                break\n",
    "        \n",
    "    return[minimum,maximum,round(mean),median,mode]\n",
    "result=calculate_statistics(count)\n",
    "print(result)\n",
    "                \n",
    "                    \n"
   ]
  }
 ],
 "metadata": {
  "kernelspec": {
   "display_name": "Python 3",
   "language": "python",
   "name": "python3"
  },
  "language_info": {
   "codemirror_mode": {
    "name": "ipython",
    "version": 3
   },
   "file_extension": ".py",
   "mimetype": "text/x-python",
   "name": "python",
   "nbconvert_exporter": "python",
   "pygments_lexer": "ipython3",
   "version": "3.10.11"
  }
 },
 "nbformat": 4,
 "nbformat_minor": 2
}
