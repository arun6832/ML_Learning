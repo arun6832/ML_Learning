{
 "cells": [
  {
   "cell_type": "code",
   "execution_count": null,
   "metadata": {},
   "outputs": [],
   "source": [
    "import pandas as pd\n",
    "\n",
    "# Sample DataFrame\n",
    "data = {'Name': ['Alice', 'Bob', 'Charlie'], 'Age': [25, 30, 35]}\n",
    "df = pd.DataFrame(data)\n",
    "\n",
    "# Adding a new column 'City'\n",
    "df['City'] = ['New York', 'Los Angeles', 'Chicago']\n",
    "\n",
    "print(df)"
   ]
  },
  {
   "cell_type": "code",
   "execution_count": 1,
   "metadata": {},
   "outputs": [
    {
     "name": "stdout",
     "output_type": "stream",
     "text": [
      "Original DataFrame:\n",
      "     A     B\n",
      "0  1.0   6.0\n",
      "1  2.0   NaN\n",
      "2  NaN   8.0\n",
      "3  4.0   9.0\n",
      "4  5.0  10.0\n",
      "\n",
      "Mean Imputation:\n",
      "     A      B\n",
      "0  1.0   6.00\n",
      "1  2.0   8.25\n",
      "2  3.0   8.00\n",
      "3  4.0   9.00\n",
      "4  5.0  10.00\n",
      "\n",
      "Median Imputation:\n",
      "     A     B\n",
      "0  1.0   6.0\n",
      "1  2.0   8.5\n",
      "2  3.0   8.0\n",
      "3  4.0   9.0\n",
      "4  5.0  10.0\n",
      "\n",
      "Mode Imputation:\n",
      "     A     B\n",
      "0  1.0   6.0\n",
      "1  2.0   6.0\n",
      "2  1.0   8.0\n",
      "3  4.0   9.0\n",
      "4  5.0  10.0\n"
     ]
    }
   ],
   "source": [
    "import pandas as pd\n",
    "import numpy as np\n",
    "\n",
    "# Create a sample DataFrame with missing values\n",
    "data = {'A': [1, 2, np.nan, 4, 5], 'B': [6, np.nan, 8, 9, 10]}\n",
    "df = pd.DataFrame(data)\n",
    "\n",
    "# Impute missing values with mean\n",
    "df_mean = df.fillna(df.mean())\n",
    "\n",
    "# Impute missing values with median\n",
    "df_median = df.fillna(df.median())\n",
    "\n",
    "# Impute missing values with mode\n",
    "df_mode = df.fillna(df.mode().iloc[0])\n",
    "\n",
    "print(\"Original DataFrame:\")\n",
    "print(df)\n",
    "print(\"\\nMean Imputation:\")\n",
    "print(df_mean)\n",
    "print(\"\\nMedian Imputation:\")\n",
    "print(df_median)\n",
    "print(\"\\nMode Imputation:\")\n",
    "print(df_mode)"
   ]
  }
 ],
 "metadata": {
  "kernelspec": {
   "display_name": "Python 3",
   "language": "python",
   "name": "python3"
  },
  "language_info": {
   "codemirror_mode": {
    "name": "ipython",
    "version": 3
   },
   "file_extension": ".py",
   "mimetype": "text/x-python",
   "name": "python",
   "nbconvert_exporter": "python",
   "pygments_lexer": "ipython3",
   "version": "3.10.11"
  }
 },
 "nbformat": 4,
 "nbformat_minor": 2
}
