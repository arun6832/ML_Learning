{
 "cells": [
  {
   "cell_type": "markdown",
   "metadata": {},
   "source": [
    "Name :- Arun M\n",
    "Register No :- 23122110"
   ]
  },
  {
   "cell_type": "code",
   "execution_count": 129,
   "metadata": {},
   "outputs": [],
   "source": [
    "import pandas as pd\n",
    "from sklearn import svm\n",
    "import matplotlib.pyplot as plt\n",
    "from sklearn import tree\n",
    "from sklearn.tree import DecisionTreeClassifier\n",
    "from sklearn.svm import SVC\n",
    "from sklearn.metrics import confusion_matrix"
   ]
  },
  {
   "cell_type": "code",
   "execution_count": null,
   "metadata": {},
   "outputs": [],
   "source": []
  },
  {
   "cell_type": "code",
   "execution_count": 130,
   "metadata": {},
   "outputs": [
    {
     "name": "stdout",
     "output_type": "stream",
     "text": [
      "      Absolute Magnitude  Est Dia in KM(min)  Est Dia in KM(max)  \\\n",
      "0                 21.600            0.127220            0.284472   \n",
      "1                 21.300            0.146068            0.326618   \n",
      "2                 20.300            0.231502            0.517654   \n",
      "3                 27.400            0.008801            0.019681   \n",
      "4                 21.600            0.127220            0.284472   \n",
      "...                  ...                 ...                 ...   \n",
      "4682              23.900            0.044112            0.098637   \n",
      "4683              28.200            0.006089            0.013616   \n",
      "4684              22.700            0.076658            0.171412   \n",
      "4685              21.800            0.116026            0.259442   \n",
      "4686              19.109            0.400641            0.895860   \n",
      "\n",
      "      Epoch Date Close Approach  Relative Velocity km per hr  Miles per hour  \\\n",
      "0                  7.890000e+11                  22017.00380    13680.509940   \n",
      "1                  7.890000e+11                  65210.34609    40519.173110   \n",
      "2                  7.900000e+11                  27326.56018    16979.661800   \n",
      "3                  7.900000e+11                  40225.94819    24994.839860   \n",
      "4                  7.900000e+11                  35426.99179    22012.954980   \n",
      "...                         ...                          ...             ...   \n",
      "4682               1.470000e+12                  79755.35427    49556.875550   \n",
      "4683               1.470000e+12                  11610.53958     7214.337772   \n",
      "4684               1.470000e+12                  25889.91063    16086.983630   \n",
      "4685               1.470000e+12                  40867.52231    25393.489070   \n",
      "4686               1.470000e+12                 129408.66630    80409.512650   \n",
      "\n",
      "      Miss Dist.(kilometers)  Orbit Uncertainity  Minimum Orbit Intersection  \\\n",
      "0               6.275369e+07                   5                    0.025282   \n",
      "1               5.729815e+07                   3                    0.186935   \n",
      "2               7.622912e+06                   0                    0.043058   \n",
      "3               4.268362e+07                   6                    0.005512   \n",
      "4               6.101082e+07                   1                    0.034798   \n",
      "...                      ...                 ...                         ...   \n",
      "4682            6.187511e+06                   8                    0.019777   \n",
      "4683            9.677324e+05                   6                    0.006451   \n",
      "4684            9.126775e+06                   6                    0.059972   \n",
      "4685            3.900908e+07                   5                    0.177510   \n",
      "4686            6.916986e+07                   6                    0.051777   \n",
      "\n",
      "      Jupiter Tisserand Invariant  ...  Inclination  Asc Node Longitude  \\\n",
      "0                           4.634  ...     6.025981          314.373913   \n",
      "1                           5.457  ...    28.412996          136.717242   \n",
      "2                           4.557  ...     4.237961          259.475979   \n",
      "3                           5.093  ...     7.905894           57.173266   \n",
      "4                           5.154  ...    16.793382           84.629307   \n",
      "...                           ...  ...          ...                 ...   \n",
      "4682                        5.156  ...    39.880491          164.183305   \n",
      "4683                        5.742  ...     5.360249          345.225230   \n",
      "4684                        4.410  ...     4.405467           37.026468   \n",
      "4685                        4.477  ...    21.080244          163.802909   \n",
      "4686                        4.108  ...    53.574922          187.642183   \n",
      "\n",
      "      Orbital Period  Perihelion Distance  Perihelion Arg  Aphelion Dist  \\\n",
      "0         609.599786             0.808259       57.257470       2.005764   \n",
      "1         425.869294             0.718200      313.091975       1.497352   \n",
      "2         643.580228             0.950791      248.415038       1.966857   \n",
      "3         514.082140             0.983902       18.707701       1.527904   \n",
      "4         495.597821             0.967687      158.263596       1.483543   \n",
      "...              ...                  ...             ...            ...   \n",
      "4682      457.179984             0.741558      276.395697       1.581299   \n",
      "4683      407.185767             0.996434       42.111064       1.153835   \n",
      "4684      690.054279             0.965760      274.692712       2.090708   \n",
      "4685      662.048343             1.185467      180.346090       1.787733   \n",
      "4686      653.679098             0.876110      222.436688       2.071980   \n",
      "\n",
      "      Perihelion Time  Mean Anomaly  Mean Motion  Hazardous  \n",
      "0         2458161.642    264.837533     0.590551          1  \n",
      "1         2457794.969    173.741112     0.845330          0  \n",
      "2         2458120.468    292.893654     0.559371          1  \n",
      "3         2457902.337     68.741007     0.700277          0  \n",
      "4         2457814.455    135.142133     0.726395          1  \n",
      "...               ...           ...          ...        ...  \n",
      "4682      2457708.228    304.306024     0.787436          0  \n",
      "4683      2458087.617    282.978786     0.884117          0  \n",
      "4684      2458300.480    203.501147     0.521698          0  \n",
      "4685      2458288.261    203.524965     0.543767          0  \n",
      "4686      2458318.587    184.820424     0.550729          0  \n",
      "\n",
      "[4687 rows x 23 columns]\n"
     ]
    }
   ],
   "source": [
    "import pandas as pd\n",
    "df=pd.read_csv(\"nasav3.csv\")\n",
    "print(df)\n"
   ]
  },
  {
   "cell_type": "code",
   "execution_count": 131,
   "metadata": {},
   "outputs": [
    {
     "name": "stdout",
     "output_type": "stream",
     "text": [
      "Index(['Absolute Magnitude', 'Est Dia in KM(min)', 'Est Dia in KM(max)',\n",
      "       'Epoch Date Close Approach', 'Relative Velocity km per hr',\n",
      "       'Miles per hour', 'Miss Dist.(kilometers)', 'Orbit Uncertainity',\n",
      "       'Minimum Orbit Intersection', 'Jupiter Tisserand Invariant',\n",
      "       'Epoch Osculation', 'Eccentricity', 'Semi Major Axis', 'Inclination',\n",
      "       'Asc Node Longitude', 'Orbital Period', 'Perihelion Distance',\n",
      "       'Perihelion Arg', 'Aphelion Dist', 'Perihelion Time', 'Mean Anomaly',\n",
      "       'Mean Motion', 'Hazardous'],\n",
      "      dtype='object')\n"
     ]
    }
   ],
   "source": [
    "print(df.columns)"
   ]
  },
  {
   "cell_type": "code",
   "execution_count": 132,
   "metadata": {},
   "outputs": [
    {
     "name": "stdout",
     "output_type": "stream",
     "text": [
      "      Absolute Magnitude  Est Dia in KM(min)  Est Dia in KM(max)  \\\n",
      "0                 21.600            0.127220            0.284472   \n",
      "1                 21.300            0.146068            0.326618   \n",
      "2                 20.300            0.231502            0.517654   \n",
      "3                 27.400            0.008801            0.019681   \n",
      "4                 21.600            0.127220            0.284472   \n",
      "...                  ...                 ...                 ...   \n",
      "4682              23.900            0.044112            0.098637   \n",
      "4683              28.200            0.006089            0.013616   \n",
      "4684              22.700            0.076658            0.171412   \n",
      "4685              21.800            0.116026            0.259442   \n",
      "4686              19.109            0.400641            0.895860   \n",
      "\n",
      "      Epoch Date Close Approach  Relative Velocity km per hr  Miles per hour  \\\n",
      "0                  7.890000e+11                  22017.00380    13680.509940   \n",
      "1                  7.890000e+11                  65210.34609    40519.173110   \n",
      "2                  7.900000e+11                  27326.56018    16979.661800   \n",
      "3                  7.900000e+11                  40225.94819    24994.839860   \n",
      "4                  7.900000e+11                  35426.99179    22012.954980   \n",
      "...                         ...                          ...             ...   \n",
      "4682               1.470000e+12                  79755.35427    49556.875550   \n",
      "4683               1.470000e+12                  11610.53958     7214.337772   \n",
      "4684               1.470000e+12                  25889.91063    16086.983630   \n",
      "4685               1.470000e+12                  40867.52231    25393.489070   \n",
      "4686               1.470000e+12                 129408.66630    80409.512650   \n",
      "\n",
      "      Miss Dist.(kilometers)  Orbit Uncertainity  Minimum Orbit Intersection  \\\n",
      "0               6.275369e+07                   5                    0.025282   \n",
      "1               5.729815e+07                   3                    0.186935   \n",
      "2               7.622912e+06                   0                    0.043058   \n",
      "3               4.268362e+07                   6                    0.005512   \n",
      "4               6.101082e+07                   1                    0.034798   \n",
      "...                      ...                 ...                         ...   \n",
      "4682            6.187511e+06                   8                    0.019777   \n",
      "4683            9.677324e+05                   6                    0.006451   \n",
      "4684            9.126775e+06                   6                    0.059972   \n",
      "4685            3.900908e+07                   5                    0.177510   \n",
      "4686            6.916986e+07                   6                    0.051777   \n",
      "\n",
      "      Jupiter Tisserand Invariant  ...  Semi Major Axis  Inclination  \\\n",
      "0                           4.634  ...         1.407011     6.025981   \n",
      "1                           5.457  ...         1.107776    28.412996   \n",
      "2                           4.557  ...         1.458824     4.237961   \n",
      "3                           5.093  ...         1.255903     7.905894   \n",
      "4                           5.154  ...         1.225615    16.793382   \n",
      "...                           ...  ...              ...          ...   \n",
      "4682                        5.156  ...         1.161429    39.880491   \n",
      "4683                        5.742  ...         1.075134     5.360249   \n",
      "4684                        4.410  ...         1.528234     4.405467   \n",
      "4685                        4.477  ...         1.486600    21.080244   \n",
      "4686                        4.108  ...         1.474045    53.574922   \n",
      "\n",
      "      Asc Node Longitude  Orbital Period  Perihelion Distance  Perihelion Arg  \\\n",
      "0             314.373913      609.599786             0.808259       57.257470   \n",
      "1             136.717242      425.869294             0.718200      313.091975   \n",
      "2             259.475979      643.580228             0.950791      248.415038   \n",
      "3              57.173266      514.082140             0.983902       18.707701   \n",
      "4              84.629307      495.597821             0.967687      158.263596   \n",
      "...                  ...             ...                  ...             ...   \n",
      "4682          164.183305      457.179984             0.741558      276.395697   \n",
      "4683          345.225230      407.185767             0.996434       42.111064   \n",
      "4684           37.026468      690.054279             0.965760      274.692712   \n",
      "4685          163.802909      662.048343             1.185467      180.346090   \n",
      "4686          187.642183      653.679098             0.876110      222.436688   \n",
      "\n",
      "      Aphelion Dist  Perihelion Time  Mean Anomaly  Mean Motion  \n",
      "0          2.005764      2458161.642    264.837533     0.590551  \n",
      "1          1.497352      2457794.969    173.741112     0.845330  \n",
      "2          1.966857      2458120.468    292.893654     0.559371  \n",
      "3          1.527904      2457902.337     68.741007     0.700277  \n",
      "4          1.483543      2457814.455    135.142133     0.726395  \n",
      "...             ...              ...           ...          ...  \n",
      "4682       1.581299      2457708.228    304.306024     0.787436  \n",
      "4683       1.153835      2458087.617    282.978786     0.884117  \n",
      "4684       2.090708      2458300.480    203.501147     0.521698  \n",
      "4685       1.787733      2458288.261    203.524965     0.543767  \n",
      "4686       2.071980      2458318.587    184.820424     0.550729  \n",
      "\n",
      "[4687 rows x 22 columns]\n",
      "0       1\n",
      "1       0\n",
      "2       1\n",
      "3       0\n",
      "4       1\n",
      "       ..\n",
      "4682    0\n",
      "4683    0\n",
      "4684    0\n",
      "4685    0\n",
      "4686    0\n",
      "Name: Hazardous, Length: 4687, dtype: int64\n"
     ]
    }
   ],
   "source": [
    "features = ['Absolute Magnitude', 'Est Dia in KM(min)', 'Est Dia in KM(max)',\n",
    "       'Epoch Date Close Approach', 'Relative Velocity km per hr',\n",
    "       'Miles per hour', 'Miss Dist.(kilometers)', 'Orbit Uncertainity',\n",
    "       'Minimum Orbit Intersection', 'Jupiter Tisserand Invariant',\n",
    "       'Epoch Osculation', 'Eccentricity', 'Semi Major Axis', 'Inclination',\n",
    "       'Asc Node Longitude', 'Orbital Period', 'Perihelion Distance',\n",
    "       'Perihelion Arg', 'Aphelion Dist', 'Perihelion Time', 'Mean Anomaly',\n",
    "       'Mean Motion']\n",
    "\n",
    "X = df[features]\n",
    "y = df['Hazardous']\n",
    "\n",
    "print(X)\n",
    "print(y)"
   ]
  },
  {
   "cell_type": "code",
   "execution_count": 133,
   "metadata": {},
   "outputs": [
    {
     "name": "stdout",
     "output_type": "stream",
     "text": [
      "[[2.16000000e+01 1.27219879e-01 2.84472297e-01 ... 2.00576367e+00\n",
      "  2.45816164e+06 2.64837533e+02]\n",
      " [2.13000000e+01 1.46067964e-01 3.26617897e-01 ... 1.49735229e+00\n",
      "  2.45779497e+06 1.73741112e+02]\n",
      " [2.03000000e+01 2.31502122e-01 5.17654482e-01 ... 1.96685667e+00\n",
      "  2.45812047e+06 2.92893654e+02]\n",
      " ...\n",
      " [2.27000000e+01 7.66575570e-02 1.71411509e-01 ... 2.09070784e+00\n",
      "  2.45830048e+06 2.03501147e+02]\n",
      " [2.18000000e+01 1.16025908e-01 2.59441818e-01 ... 1.78773308e+00\n",
      "  2.45828826e+06 2.03524965e+02]\n",
      " [1.91090000e+01 4.00640618e-01 8.95859655e-01 ... 2.07198006e+00\n",
      "  2.45831859e+06 1.84820424e+02]]\n",
      "[1. 0. 1. ... 0. 0. 0.]\n"
     ]
    }
   ],
   "source": [
    "import numpy as np\n",
    "X=np.array(df)\n",
    "y=X[:,22]\n",
    "X=X[:,:21]\n",
    "\n",
    "print(X)\n",
    "print(y)"
   ]
  },
  {
   "cell_type": "code",
   "execution_count": 134,
   "metadata": {},
   "outputs": [],
   "source": [
    "from sklearn.preprocessing import StandardScaler\n",
    "scaler=StandardScaler()\n",
    "scaler.fit(X)\n",
    "X=scaler.transform(X)"
   ]
  },
  {
   "cell_type": "code",
   "execution_count": 135,
   "metadata": {},
   "outputs": [],
   "source": [
    "from sklearn.model_selection import train_test_split\n",
    "X_train, X_test, y_train, y_test = train_test_split(X,y ,\n",
    "                                   random_state=104,\n",
    "                                   test_size=0.25,\n",
    "                                   shuffle=True)"
   ]
  },
  {
   "cell_type": "code",
   "execution_count": 136,
   "metadata": {},
   "outputs": [],
   "source": [
    "dtree = DecisionTreeClassifier(criterion='gini',max_depth=3)\n",
    "dtree = dtree.fit(X_train, y_train)"
   ]
  },
  {
   "cell_type": "code",
   "execution_count": 137,
   "metadata": {},
   "outputs": [
    {
     "name": "stdout",
     "output_type": "stream",
     "text": [
      "(3515, 21)\n"
     ]
    },
    {
     "data": {
      "image/png": "[encoded data removed]",
      "text/plain": [
       "<Figure size 640x480 with 1 Axes>"
      ]
     },
     "metadata": {},
     "output_type": "display_data"
    }
   ],
   "source": [
    "tree.plot_tree(dtree, feature_names=features,fontsize=7)\n",
    "print(X_train.shape)"
   ]
  },
  {
   "cell_type": "code",
   "execution_count": 138,
   "metadata": {},
   "outputs": [
    {
     "name": "stdout",
     "output_type": "stream",
     "text": [
      "Accuracy: 0.9948805460750854\n"
     ]
    }
   ],
   "source": [
    "from sklearn.model_selection import train_test_split\n",
    "from sklearn.metrics import accuracy_score\n",
    "\n",
    "# For Decesion TReee\n",
    "# Predict labels for test set\n",
    "y_pred = dtree.predict(X_test)\n",
    "# Calculate accuracy\n",
    "accuracy = accuracy_score(y_test, y_pred)\n",
    "print(\"Accuracy:\", accuracy)"
   ]
  },
  {
   "cell_type": "code",
   "execution_count": null,
   "metadata": {},
   "outputs": [],
   "source": []
  },
  {
   "cell_type": "code",
   "execution_count": 139,
   "metadata": {},
   "outputs": [],
   "source": [
    "Sclf = SVC(kernel='sigmoid')\n",
    "Sclf = Sclf.fit(X_train, y_train)"
   ]
  },
  {
   "cell_type": "code",
   "execution_count": 140,
   "metadata": {},
   "outputs": [
    {
     "name": "stdout",
     "output_type": "stream",
     "text": [
      "Accuracy: 0.8651877133105802\n"
     ]
    }
   ],
   "source": [
    "# For For support vector classifier\n",
    "# Predict labels for test set\n",
    "y_pred = Sclf.predict(X_test)\n",
    "# Calculate accuracy\n",
    "accuracy = accuracy_score(y_test, y_pred)\n",
    "print(\"Accuracy:\", accuracy)"
   ]
  },
  {
   "cell_type": "code",
   "execution_count": 141,
   "metadata": {},
   "outputs": [
    {
     "name": "stdout",
     "output_type": "stream",
     "text": [
      "confusion_matrix\n",
      "[[907  81]\n",
      " [ 77 107]]\n"
     ]
    }
   ],
   "source": [
    "cm=confusion_matrix(y_test,y_pred)\n",
    "print(\"confusion_matrix\")\n",
    "print(cm)"
   ]
  }
 ],
 "metadata": {
  "kernelspec": {
   "display_name": "Python 3",
   "language": "python",
   "name": "python3"
  },
  "language_info": {
   "codemirror_mode": {
    "name": "ipython",
    "version": 3
   },
   "file_extension": ".py",
   "mimetype": "text/x-python",
   "name": "python",
   "nbconvert_exporter": "python",
   "pygments_lexer": "ipython3",
   "version": "3.10.11"
  }
 },
 "nbformat": 4,
 "nbformat_minor": 2
}
