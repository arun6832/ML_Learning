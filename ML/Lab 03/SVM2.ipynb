{
 "cells": [
  {
   "cell_type": "code",
   "execution_count": 7,
   "id": "71304225",
   "metadata": {},
   "outputs": [
    {
     "name": "stdout",
     "output_type": "stream",
     "text": [
      "(569, 2)\n",
      "[[ 122.8  1001.  ]\n",
      " [ 132.9  1326.  ]\n",
      " [ 130.   1203.  ]\n",
      " ...\n",
      " [ 108.3   858.1 ]\n",
      " [ 140.1  1265.  ]\n",
      " [  47.92  181.  ]]\n"
     ]
    },
    {
     "data": {
      "text/plain": [
       "(None,\n",
       " array([1., 1., 1., 1., 1., 1., 1., 1., 1., 1., 1., 1., 1., 1., 1., 1., 1.,\n",
       "        1., 1., 0., 0., 0., 1., 1., 1., 1., 1., 1., 1., 1., 1., 1., 1., 1.,\n",
       "        1., 1., 1., 0., 1., 1., 1., 1., 1., 1., 1., 1., 0., 1., 0., 0., 0.,\n",
       "        0., 0., 1., 1., 0., 1., 1., 0., 0., 0., 0., 1., 0., 1., 1., 0., 0.,\n",
       "        0., 0., 1., 0., 1., 1., 0., 1., 0., 1., 1., 0., 0., 0., 1., 1., 0.,\n",
       "        1., 1., 1., 0., 0., 0., 1., 0., 0., 1., 1., 0., 0., 0., 1., 1., 0.,\n",
       "        0., 0., 0., 1., 0., 0., 1., 0., 0., 0., 0., 0., 0., 0., 0., 1., 1.,\n",
       "        1., 0., 1., 1., 0., 0., 0., 1., 1., 0., 1., 0., 1., 1., 0., 1., 1.,\n",
       "        0., 0., 1., 0., 0., 1., 0., 0., 0., 0., 1., 0., 0., 0., 0., 0., 0.,\n",
       "        0., 0., 0., 1., 0., 0., 0., 0., 1., 1., 0., 1., 0., 0., 1., 1., 0.,\n",
       "        0., 1., 1., 0., 0., 0., 0., 1., 0., 0., 1., 1., 1., 0., 1., 0., 1.,\n",
       "        0., 0., 0., 1., 0., 0., 1., 1., 0., 1., 1., 1., 1., 0., 1., 1., 1.,\n",
       "        0., 1., 0., 1., 0., 0., 1., 0., 1., 1., 1., 1., 0., 0., 1., 1., 0.,\n",
       "        0., 0., 1., 0., 0., 0., 0., 0., 1., 1., 0., 0., 1., 0., 0., 1., 1.,\n",
       "        0., 1., 0., 0., 0., 0., 1., 0., 0., 0., 0., 0., 1., 0., 1., 1., 1.,\n",
       "        1., 1., 1., 1., 1., 1., 1., 1., 1., 1., 1., 0., 0., 0., 0., 0., 0.,\n",
       "        1., 0., 1., 0., 0., 1., 0., 0., 1., 0., 1., 1., 0., 0., 0., 0., 0.,\n",
       "        0., 0., 0., 0., 0., 0., 0., 0., 1., 0., 0., 1., 0., 1., 0., 0., 0.,\n",
       "        0., 0., 0., 0., 0., 0., 0., 0., 0., 0., 0., 1., 0., 0., 0., 1., 0.,\n",
       "        1., 0., 0., 0., 0., 1., 1., 1., 0., 0., 0., 0., 1., 0., 1., 0., 1.,\n",
       "        0., 0., 0., 1., 0., 0., 0., 0., 0., 0., 0., 1., 1., 1., 0., 0., 0.,\n",
       "        0., 0., 0., 0., 0., 0., 0., 0., 1., 1., 0., 1., 1., 1., 0., 1., 1.,\n",
       "        0., 0., 0., 0., 0., 1., 0., 0., 0., 0., 0., 1., 0., 0., 0., 1., 0.,\n",
       "        0., 1., 1., 0., 0., 0., 0., 0., 0., 1., 0., 0., 0., 0., 0., 0., 0.,\n",
       "        1., 0., 0., 0., 0., 0., 1., 0., 0., 1., 0., 0., 0., 0., 0., 0., 0.,\n",
       "        0., 0., 0., 0., 0., 1., 0., 1., 1., 0., 1., 0., 0., 0., 0., 0., 1.,\n",
       "        0., 0., 1., 0., 1., 0., 0., 1., 0., 1., 0., 0., 0., 0., 0., 0., 0.,\n",
       "        0., 1., 1., 0., 0., 0., 0., 0., 0., 1., 0., 0., 0., 0., 0., 0., 0.,\n",
       "        0., 0., 0., 1., 0., 0., 0., 0., 0., 0., 0., 1., 0., 1., 0., 0., 1.,\n",
       "        0., 0., 0., 0., 0., 1., 1., 0., 1., 0., 1., 0., 0., 0., 0., 0., 1.,\n",
       "        0., 0., 1., 0., 1., 0., 1., 1., 0., 0., 0., 1., 0., 0., 0., 0., 0.,\n",
       "        0., 0., 0., 0., 0., 0., 1., 0., 1., 1., 0., 0., 0., 0., 0., 0., 0.,\n",
       "        0., 0., 0., 0., 0., 0., 0., 0., 0., 0., 0., 0., 0., 0., 0., 0., 0.,\n",
       "        0., 1., 1., 1., 1., 1., 1., 0.]))"
      ]
     },
     "execution_count": 7,
     "metadata": {},
     "output_type": "execute_result"
    }
   ],
   "source": [
    "# importing required libraries\n",
    "import numpy as np\n",
    "import pandas as pd\n",
    "import matplotlib.pyplot as plt\n",
    "\n",
    "# reading csv file and extracting class column to y.\n",
    "x = pd.read_csv(\"cancer.csv\")\n",
    "a = np.array(x)\n",
    "y = a[:,2] # classes having 0 and 1\n",
    "\n",
    "# extracting two features\n",
    "x = np.column_stack((x.col1,x.col2))\n",
    "\n",
    "# 569 samples and 2 features\n",
    "print(x.shape)\n",
    "\n",
    "print (x),(y)\n"
   ]
  },
  {
   "cell_type": "code",
   "execution_count": 3,
   "id": "1e5ae0b8",
   "metadata": {},
   "outputs": [
    {
     "data": {
      "text/html": [
       "<style>#sk-container-id-1 {color: black;}#sk-container-id-1 pre{padding: 0;}#sk-container-id-1 div.sk-toggleable {background-color: white;}#sk-container-id-1 label.sk-toggleable__label {cursor: pointer;display: block;width: 100%;margin-bottom: 0;padding: 0.3em;box-sizing: border-box;text-align: center;}#sk-container-id-1 label.sk-toggleable__label-arrow:before {content: \"▸\";float: left;margin-right: 0.25em;color: #696969;}#sk-container-id-1 label.sk-toggleable__label-arrow:hover:before {color: black;}#sk-container-id-1 div.sk-estimator:hover label.sk-toggleable__label-arrow:before {color: black;}#sk-container-id-1 div.sk-toggleable__content {max-height: 0;max-width: 0;overflow: hidden;text-align: left;background-color: #f0f8ff;}#sk-container-id-1 div.sk-toggleable__content pre {margin: 0.2em;color: black;border-radius: 0.25em;background-color: #f0f8ff;}#sk-container-id-1 input.sk-toggleable__control:checked~div.sk-toggleable__content {max-height: 200px;max-width: 100%;overflow: auto;}#sk-container-id-1 input.sk-toggleable__control:checked~label.sk-toggleable__label-arrow:before {content: \"▾\";}#sk-container-id-1 div.sk-estimator input.sk-toggleable__control:checked~label.sk-toggleable__label {background-color: #d4ebff;}#sk-container-id-1 div.sk-label input.sk-toggleable__control:checked~label.sk-toggleable__label {background-color: #d4ebff;}#sk-container-id-1 input.sk-hidden--visually {border: 0;clip: rect(1px 1px 1px 1px);clip: rect(1px, 1px, 1px, 1px);height: 1px;margin: -1px;overflow: hidden;padding: 0;position: absolute;width: 1px;}#sk-container-id-1 div.sk-estimator {font-family: monospace;background-color: #f0f8ff;border: 1px dotted black;border-radius: 0.25em;box-sizing: border-box;margin-bottom: 0.5em;}#sk-container-id-1 div.sk-estimator:hover {background-color: #d4ebff;}#sk-container-id-1 div.sk-parallel-item::after {content: \"\";width: 100%;border-bottom: 1px solid gray;flex-grow: 1;}#sk-container-id-1 div.sk-label:hover label.sk-toggleable__label {background-color: #d4ebff;}#sk-container-id-1 div.sk-serial::before {content: \"\";position: absolute;border-left: 1px solid gray;box-sizing: border-box;top: 0;bottom: 0;left: 50%;z-index: 0;}#sk-container-id-1 div.sk-serial {display: flex;flex-direction: column;align-items: center;background-color: white;padding-right: 0.2em;padding-left: 0.2em;position: relative;}#sk-container-id-1 div.sk-item {position: relative;z-index: 1;}#sk-container-id-1 div.sk-parallel {display: flex;align-items: stretch;justify-content: center;background-color: white;position: relative;}#sk-container-id-1 div.sk-item::before, #sk-container-id-1 div.sk-parallel-item::before {content: \"\";position: absolute;border-left: 1px solid gray;box-sizing: border-box;top: 0;bottom: 0;left: 50%;z-index: -1;}#sk-container-id-1 div.sk-parallel-item {display: flex;flex-direction: column;z-index: 1;position: relative;background-color: white;}#sk-container-id-1 div.sk-parallel-item:first-child::after {align-self: flex-end;width: 50%;}#sk-container-id-1 div.sk-parallel-item:last-child::after {align-self: flex-start;width: 50%;}#sk-container-id-1 div.sk-parallel-item:only-child::after {width: 0;}#sk-container-id-1 div.sk-dashed-wrapped {border: 1px dashed gray;margin: 0 0.4em 0.5em 0.4em;box-sizing: border-box;padding-bottom: 0.4em;background-color: white;}#sk-container-id-1 div.sk-label label {font-family: monospace;font-weight: bold;display: inline-block;line-height: 1.2em;}#sk-container-id-1 div.sk-label-container {text-align: center;}#sk-container-id-1 div.sk-container {/* jupyter's `normalize.less` sets `[hidden] { display: none; }` but bootstrap.min.css set `[hidden] { display: none !important; }` so we also need the `!important` here to be able to override the default hidden behavior on the sphinx rendered scikit-learn.org. See: https://github.com/scikit-learn/scikit-learn/issues/21755 */display: inline-block !important;position: relative;}#sk-container-id-1 div.sk-text-repr-fallback {display: none;}</style><div id=\"sk-container-id-1\" class=\"sk-top-container\"><div class=\"sk-text-repr-fallback\"><pre>SVC(kernel=&#x27;linear&#x27;)</pre><b>In a Jupyter environment, please rerun this cell to show the HTML representation or trust the notebook. <br />On GitHub, the HTML representation is unable to render, please try loading this page with nbviewer.org.</b></div><div class=\"sk-container\" hidden><div class=\"sk-item\"><div class=\"sk-estimator sk-toggleable\"><input class=\"sk-toggleable__control sk-hidden--visually\" id=\"sk-estimator-id-1\" type=\"checkbox\" checked><label for=\"sk-estimator-id-1\" class=\"sk-toggleable__label sk-toggleable__label-arrow\">SVC</label><div class=\"sk-toggleable__content\"><pre>SVC(kernel=&#x27;linear&#x27;)</pre></div></div></div></div></div>"
      ],
      "text/plain": [
       "SVC(kernel='linear')"
      ]
     },
     "execution_count": 3,
     "metadata": {},
     "output_type": "execute_result"
    }
   ],
   "source": [
    "# import support vector classifier \n",
    "# \"Support Vector Classifier\"\n",
    "from sklearn.svm import SVC \n",
    "clf = SVC(kernel='linear') \n",
    "\n",
    "# fitting x samples and y classes \n",
    "clf.fit(x, y) \n"
   ]
  },
  {
   "cell_type": "code",
   "execution_count": 4,
   "id": "cca9ee12",
   "metadata": {},
   "outputs": [
    {
     "data": {
      "text/plain": [
       "array([1.])"
      ]
     },
     "execution_count": 4,
     "metadata": {},
     "output_type": "execute_result"
    }
   ],
   "source": [
    "clf.predict([[120, 990]])\n",
    " \n"
   ]
  },
  {
   "cell_type": "code",
   "execution_count": 5,
   "id": "ce1f359e",
   "metadata": {},
   "outputs": [
    {
     "data": {
      "text/plain": [
       "array([0.])"
      ]
     },
     "execution_count": 5,
     "metadata": {},
     "output_type": "execute_result"
    }
   ],
   "source": [
    "clf.predict([[85, 550]])"
   ]
  },
  {
   "cell_type": "code",
   "execution_count": 8,
   "id": "4e3d3ecd",
   "metadata": {},
   "outputs": [
    {
     "name": "stdout",
     "output_type": "stream",
     "text": [
      "SVC(kernel='poly')\n",
      "[122.8  132.9  130.    77.58 135.1   82.57 119.6   90.2   87.5   83.97\n",
      " 102.7  103.6  132.4  103.7   93.6   96.73  94.74 108.1  130.    87.46\n",
      "  85.63  60.34 102.5  137.2  110.   116.    97.41 122.1  102.4  115.\n",
      " 124.8   77.93 112.8  127.9  107.   110.1   93.63  82.61  95.54  88.4\n",
      "  86.18  71.9  128.3   87.32  85.42 123.7   51.71  85.98  78.04  86.91\n",
      "  74.72  87.21  75.71 120.3   97.26  73.34 125.5   95.55  82.61  54.34\n",
      "  64.55  54.66  96.42  59.2   82.69  97.4   60.11  71.8   58.79  81.37\n",
      " 123.6   58.79 114.2   90.43  79.19 104.1   87.91 120.2  143.7   83.19\n",
      "  73.81  86.49 171.5  129.1   76.95 121.1   94.25 122.    79.78  95.77\n",
      "  94.57 100.2   84.74  86.6  100.3  132.4   77.79  62.11  74.34  94.48\n",
      "  88.05  43.79  77.22  63.95  67.41  87.21  75.17  79.01 152.8   72.48\n",
      "  62.5   82.15  97.83  68.64  55.84  76.53  58.74  98.64 105.7  114.2\n",
      "  73.34 121.4  166.2   94.28  86.1   88.44  87.76 123.4   99.58 130.4\n",
      "  79.08 101.7  106.2  102.   120.2   81.72  74.72  73.06  96.85  73.\n",
      "  61.24 105.1   73.66  83.74  68.26  78.11  78.99  97.84  93.97  88.12\n",
      "  83.51  53.27  63.78  70.87  85.31  78.27 117.4  108.4   76.84  68.69\n",
      "  76.1  126.3  130.7   79.85 152.1   95.5   68.77 109.3  116.1   96.22\n",
      "  78.85  85.84 102.5   70.21  67.49  54.42  64.6  109.3   82.01  81.29\n",
      " 182.1  142.7  101.2   73.53  98.92  63.76 118.6   74.68  75.27  78.83\n",
      "  94.37  82.02  60.73  81.15 100.4   82.53  90.63 117.4  127.5   94.49\n",
      "  78.54 115.1  158.9   91.56  81.09  98.78  62.92 109.7   87.02  98.17\n",
      " 134.7   75.51 188.5  114.5   92.87  90.96  77.32  65.05 129.7  128.\n",
      "  87.88  88.59  65.12 102.6   84.55  92.51  66.62  97.45  81.35  85.26\n",
      " 113.4   71.76  70.79 134.4   60.21  89.79 153.5  132.5   92.55 113.4\n",
      "  87.38  78.61  73.93  88.54 129.1   66.72  84.13  84.95  68.01  73.87\n",
      " 138.9   73.28 130.7  113.   126.5   91.43 133.6  103.2  110.2  103.7\n",
      " 132.9  111.   114.4  100.   111.6  135.7   69.28  87.16  82.38  69.5\n",
      "  90.3   72.23 147.3   61.5  115.2   76.2   71.79 120.9   86.24  88.99\n",
      " 126.2   74.24 127.2  108.8   84.08  79.83  77.87  81.89  73.72  72.17\n",
      "  96.03  97.03  83.14  75.54  81.78  88.06  69.14  75.    91.22  66.85\n",
      " 129.5   80.43 134.7   66.86  73.59  74.23  84.07  56.36  85.69  82.71\n",
      "  74.33  92.68  82.29  73.73  54.09  79.19  77.25 118.7   60.07  78.6\n",
      "  66.52 131.1   82.82 135.9   78.01  81.25  90.03  76.09 106.9  107.5\n",
      " 105.8   84.52  71.94  71.38  77.88 111.8   84.08 122.9   64.41 155.1\n",
      "  94.15  61.64  71.49 129.9   75.03  66.2   76.66  94.87  73.02  77.23\n",
      "  73.7  107.1  174.2   98.    71.24  81.92  85.09  88.52  56.74  59.82\n",
      "  79.42  85.24  81.87 106.6   85.48 133.8  133.7   78.31 140.9  147.2\n",
      " 109.    97.65 141.3  134.8   87.84 106.3   70.15  85.89  88.27  73.3\n",
      "  73.16  70.67  78.75  80.64  85.79  93.97  78.78  88.37  73.38 128.9\n",
      "  65.75  55.27 102.4  144.4   78.07  89.75  88.1   83.05  70.31  75.26\n",
      " 124.4   76.14  84.18  83.18  78.29  70.39 104.3   82.63 117.8   78.41\n",
      "  72.49  70.92  59.75  97.53  96.71  76.39  59.6  102.9   80.88  70.95\n",
      "  74.2   98.22  75.46  89.46  61.93  63.19  67.49  68.79  70.47  80.98\n",
      " 102.1   81.47 133.8  123.7   94.89  91.12  82.67  89.78  88.68  89.59\n",
      "  71.73 112.4   88.37  66.82 117.5   77.61 117.3   95.88  94.25 138.1\n",
      "  76.83 127.7   76.77  93.86  80.62  86.34  74.87  84.1   82.61  61.68\n",
      " 111.2  186.9   92.25  73.88  84.28  86.87  85.98  61.06 119.    76.38\n",
      "  61.49  76.85  96.45  77.42  70.41  82.89  92.41  88.97  73.99 109.8\n",
      "  78.29  88.73  87.32  87.76 102.8   82.85  94.21 128.1   75.49 107.1\n",
      "  78.18 114.6  118.4   78.83  84.06  96.12  82.69  80.45 121.3  137.8\n",
      "  98.73  92.33  81.25 152.1   61.49  64.12  79.47  71.25 104.7  103.8\n",
      "  76.31  94.66  88.64  94.29  97.26  72.76 120.8  130.5   84.45  82.51\n",
      "  59.96 165.5   71.3   88.73  63.    54.53  87.44  78.94  90.31  77.83\n",
      "  75.89  75.21  87.76 134.7   70.79 137.8   93.77  76.37  47.98  48.34\n",
      "  74.65  95.81  94.7   84.88  89.77  87.19  65.31  65.85  61.05  68.89\n",
      "  68.51  71.49  81.35  59.01  82.5   65.67  64.73  59.26  96.39  74.52\n",
      "  91.38  70.67 103.4  143.   142.   131.2  108.3  140.1   47.92] [1001.  1326.  1203.   386.1 1297.   477.1 1040.   577.9  519.8  475.9\n",
      "  797.8  781.  1123.   782.7  578.3  658.8  684.5  798.8 1260.   566.3\n",
      "  520.   273.9  704.4 1404.   904.6  912.7  644.8 1094.   732.4  955.1\n",
      " 1088.   440.6  899.3 1162.   807.2  869.5  633.   523.8  698.8  559.2\n",
      "  563.   371.1 1104.   545.2  531.5 1076.   201.9  534.6  449.3  561.\n",
      "  427.9  571.8  437.6 1033.   712.8  409.  1152.   656.9  527.2  224.5\n",
      "  311.9  221.8  645.7  260.9  499.   668.3  269.4  394.1  250.5  502.5\n",
      " 1130.   244.   929.4  584.1  470.9  817.7  559.2 1006.  1245.   506.3\n",
      "  401.5  520.  1878.  1132.   443.3 1075.   648.2 1076.   466.1  651.9\n",
      "  662.7  728.2  551.7  555.1  705.6 1264.   451.1  294.5  412.6  642.5\n",
      "  582.7  143.5  458.7  298.3  336.1  530.2  412.5  466.7 1509.   396.5\n",
      "  290.2  480.4  629.9  334.2  230.9  438.6  245.2  682.5  782.6  982.\n",
      "  403.3 1077.  1761.   640.7  553.5  588.7  572.6 1138.   674.5 1192.\n",
      "  455.8  748.9  809.8  761.7 1075.   506.3  423.6  399.8  678.1  384.8\n",
      "  288.5  813.   398.   512.2  355.3  432.8  432.   689.5  640.1  585.\n",
      "  519.4  203.9  300.2  381.9  538.9  460.3  963.7  880.2  448.6  366.8\n",
      "  419.8 1157.  1214.   464.5 1686.   690.2  357.6  886.3  984.6  685.9\n",
      "  464.1  565.4  736.9  372.7  349.6  227.2  302.4  832.9  526.4  508.8\n",
      " 2250.  1311.   766.6  402.   710.6  317.5 1041.   420.3  428.9  463.7\n",
      "  609.9  507.4  288.1  477.4  671.4  516.4  588.9 1024.  1148.   642.7\n",
      "  461.   951.6 1685.   597.8  481.9  716.6  295.4  904.3  529.4  725.5\n",
      " 1290.   428.  2499.   948.   610.7  578.9  432.2  321.2 1230.  1223.\n",
      "  568.9  561.3  313.1  761.3  546.4  641.2  329.6  684.5  496.4  503.2\n",
      "  895.   395.7  386.8 1319.   279.6  603.4 1670.  1306.   623.9  920.6\n",
      "  575.3  476.5  389.4  590.  1155.   337.7  541.6  512.2  347.   406.3\n",
      " 1364.   407.4 1206.   928.2 1169.   602.4 1207.   713.3  773.5  744.9\n",
      " 1288.   933.1  947.8  758.6  928.3 1419.   346.4  561.   512.2  344.9\n",
      "  632.6  388.  1491.   289.9  998.9  435.6  396.6 1102.   572.3  587.4\n",
      " 1138.   427.3 1145.   805.1  516.6  489.   441.   515.9  394.1  396.\n",
      "  651.   687.3  513.7  432.7  492.1  582.7  363.7  431.1  633.1  334.2\n",
      " 1217.   471.3 1247.   334.3  403.1  417.2  537.3  246.3  566.2  530.6\n",
      "  418.7  664.9  504.1  409.1  221.2  481.6  461.4 1027.   244.5  477.3\n",
      "  324.2 1274.   504.8 1264.   457.9  489.9  616.5  446.   813.7  826.8\n",
      "  793.2  514.   387.3  390.   464.4  918.6  514.3 1092.   310.8 1747.\n",
      "  641.2  280.5  373.9 1194.   420.3  321.6  445.3  668.7  402.7  426.7\n",
      "  421.   758.6 2010.   716.6  384.6  485.8  512.   593.7  241.   278.6\n",
      "  491.9  546.1  496.6  838.1  552.4 1293.  1234.   458.4 1546.  1482.\n",
      "  840.4  711.8 1386.  1335.   579.1  788.5  338.3  562.1  580.6  361.6\n",
      "  386.3  372.7  447.8  462.9  541.8  664.7  462.   596.6  392.  1174.\n",
      "  321.6  234.3  744.7 1407.   446.2  609.1  558.1  508.3  378.2  431.9\n",
      "  994.   442.7  525.2  507.6  469.1  370.   800.   514.5  991.7  466.1\n",
      "  399.8  373.2  268.8  693.7  719.5  433.8  271.2  803.1  495.   380.3\n",
      "  409.7  656.1  408.2  575.3  289.7  307.3  333.6  359.9  381.1  501.3\n",
      "  685.   467.8 1250.  1110.   673.7  599.5  509.2  611.2  592.6  606.5\n",
      "  371.5  928.8  585.9  340.9  990.   441.3  981.6  674.8  659.7 1384.\n",
      "  432.  1191.   442.5  644.2  492.9  557.2  415.1  537.9  520.2  290.9\n",
      "  930.9 2501.   646.1  412.7  537.3  542.9  536.9  286.3  980.5  408.8\n",
      "  289.1  449.9  686.9  465.4  358.9  506.9  618.4  599.4  404.9  815.8\n",
      "  455.3  602.9  546.3  571.1  747.2  476.7  666.  1167.   420.5  857.6\n",
      "  466.5  992.1 1007.   477.3  538.7  680.9  485.6  480.1 1068.  1320.\n",
      "  689.4  595.9  476.3 1682.   248.7  272.5  453.1  366.5  819.8  731.3\n",
      "  426.   680.7  556.7  658.8  701.9  391.2 1052.  1214.   493.1  493.8\n",
      "  257.8 1841.   388.1  571.   293.2  221.3  551.1  468.5  594.2  445.2\n",
      "  422.9  416.2  575.5 1299.   365.6 1308.   629.8  406.4  178.8  170.4\n",
      "  402.9  656.4  668.6  538.4  584.8  573.2  324.9  320.8  285.7  361.6\n",
      "  360.5  378.4  507.9  264.   514.3  321.4  311.7  271.3  657.1  403.5\n",
      "  600.4  386.   716.9 1347.  1479.  1261.   858.1 1265.   181. ]\n"
     ]
    },
    {
     "name": "stderr",
     "output_type": "stream",
     "text": [
      "No artists with labels found to put in legend.  Note that artists whose label start with an underscore are ignored when legend() is called with no argument.\n"
     ]
    },
    {
     "data": {
      "image/png": "[encoded data removed]",
      "text/plain": [
       "<Figure size 640x480 with 1 Axes>"
      ]
     },
     "metadata": {},
     "output_type": "display_data"
    }
   ],
   "source": [
    "# iris = datasets.load_iris()\n",
    "# X = iris.data[:, :2]  # we only take the first two features.\n",
    "# y = iris.target\n",
    "import numpy as np\n",
    "\n",
    "def make_meshgrid(x, y, h=0.2):#0.02\n",
    "    x_min, x_max = x.min() - 1, x.max() + 1\n",
    "    y_min, y_max = y.min() - 1, y.max() + 1\n",
    "    xx, yy = np.meshgrid(np.arange(x_min, x_max, h), np.arange(y_min, y_max, h))\n",
    "    return xx, yy\n",
    "\n",
    "def plot_contours(ax, clf, xx, yy, **params):\n",
    "    Z = clf.predict(np.c_[xx.ravel(), yy.ravel()])\n",
    "    Z = Z.reshape(xx.shape)\n",
    "    out = ax.contourf(xx, yy, Z, **params)\n",
    "    return out\n",
    "X=x\n",
    "model = SVC(kernel='poly')\n",
    "clf = model.fit(X, y)\n",
    "print(clf)\n",
    "fig, ax = plt.subplots()\n",
    "# title for the plots\n",
    "title = ('Decision surface of linear SVC ')\n",
    "# Set-up grid for plotting.\n",
    "# print(X)\n",
    "# print(y)\n",
    "# print(X.iloc[:, 1])\n",
    "X0, X1 = X[:, 0], X[:, 1]\n",
    "print(X0,X1)\n",
    "\n",
    "xx, yy = make_meshgrid(X0, X1)\n",
    "\n",
    "plot_contours(ax, clf, xx, yy, cmap=plt.cm.summer, alpha=0.1)\n",
    "ax.scatter(X0, X1, c=y, cmap=plt.cm.summer, s=30, edgecolors='k')\n",
    "ax.set_ylabel('Col1')\n",
    "ax.set_xlabel('Col2')\n",
    "ax.set_xticks(())\n",
    "ax.set_yticks(())\n",
    "ax.set_title(title)\n",
    "ax.legend()\n",
    "plt.show()"
   ]
  },
  {
   "cell_type": "code",
   "execution_count": 2,
   "id": "db2bb951",
   "metadata": {},
   "outputs": [
    {
     "name": "stdout",
     "output_type": "stream",
     "text": [
      "['Age', 'Rank']\n",
      "['Age', 'Rank']\n"
     ]
    }
   ],
   "source": [
    "import pandas\n",
    "from sklearn import svm\n",
    "import matplotlib.pyplot as plt\n",
    "\n",
    "df = pandas.read_csv(\"dataTree1.csv\")\n",
    "\n",
    "d = {'UK': 0, 'USA': 1, 'N': 2}\n",
    "df['Nationality'] = df['Nationality'].map(d)\n",
    "d = {'YES': 1, 'NO': 0}\n",
    "df['Go'] = df['Go'].map(d)\n",
    "\n",
    "features = ['Age', 'Experience', 'Rank','Nationality']\n",
    "\n",
    "features = ['Age', 'Rank']\n",
    "print(features)\n",
    "X1a = df[features]\n",
    "y = df['Go']\n",
    "\n",
    "model = svm.SVC()\n",
    "clf = model.fit(X1a, y)\n",
    "\n",
    "features = ['Age', 'Rank']\n",
    "print(features)\n",
    "X = df[features]"
   ]
  }
 ],
 "metadata": {
  "kernelspec": {
   "display_name": "Python 3 (ipykernel)",
   "language": "python",
   "name": "python3"
  },
  "language_info": {
   "codemirror_mode": {
    "name": "ipython",
    "version": 3
   },
   "file_extension": ".py",
   "mimetype": "text/x-python",
   "name": "python",
   "nbconvert_exporter": "python",
   "pygments_lexer": "ipython3",
   "version": "3.10.11"
  }
 },
 "nbformat": 4,
 "nbformat_minor": 5
}
