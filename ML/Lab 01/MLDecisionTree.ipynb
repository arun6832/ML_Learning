{
 "cells": [
  {
   "cell_type": "code",
   "execution_count": null,
   "id": "debbdd99",
   "metadata": {},
   "outputs": [],
   "source": [
    "# #https://www.w3schools.com/python/python_ml_decision_tree.asp\n",
    "# Machine Learning Lab2: Created by Jibrael Jos,PhD\n",
    "# Topic: Decision Tree Explorations\n",
    "# Student Name: Arun M  \n",
    "# Roll No: 23122110 \n",
    "# Date: 07/03/2024 \n",
    "# Submission : \n",
    "# Python Notebook as PDF (File Name MLDecisionTree21.pdf) \n",
    "# and Observations in MLLab2_21.xlsx \n",
    "\n",
    "# Where 21 can be replaced with your roll number"
   ]
  },
  {
   "cell_type": "code",
   "execution_count": null,
   "id": "cfe001d2",
   "metadata": {},
   "outputs": [],
   "source": [
    "import pandas\n",
    "\n",
    "df = pandas.read_csv(\"dataTree1.csv\")\n",
    "\n",
    "print(df)"
   ]
  },
  {
   "cell_type": "code",
   "execution_count": null,
   "id": "7e5e2d59",
   "metadata": {},
   "outputs": [],
   "source": [
    "# 1.Upload data from a csv file\n",
    "import pandas as pd\n",
    "df=pd.read_csv(\"dataTree1.csv\")\n",
    "df\n",
    "# 2.Upload from a text file where seperator is tab\n",
    "\n",
    "\n",
    "# 3.Upload from an Excel Sheet"
   ]
  },
  {
   "cell_type": "code",
   "execution_count": null,
   "id": "73b235cc",
   "metadata": {},
   "outputs": [],
   "source": [
    "d = {'UK': 0, 'USA': 1, 'N': 2}\n",
    "df['Nationality'] = df['Nationality'].map(d)\n",
    "d = {'YES': 1, 'NO': 0}\n",
    "df['Go'] = df['Go'].map(d)\n",
    "\n",
    "print(df)"
   ]
  },
  {
   "cell_type": "code",
   "execution_count": null,
   "id": "c0c925eb",
   "metadata": {},
   "outputs": [],
   "source": [
    "# 4. Explore map function in a data frame\n",
    "# 5. Create a map function to convert a month column to Numbers\n",
    "# Jan-1, Feb-2 and so on\n",
    "# 6. Create a map function to convert True to 1 and False to Zero"
   ]
  },
  {
   "cell_type": "code",
   "execution_count": null,
   "id": "892dea05",
   "metadata": {},
   "outputs": [],
   "source": [
    "features = ['Age', 'Experience', 'Rank', 'Nationality']\n",
    "\n",
    "X = df[features]\n",
    "y = df['Go']\n",
    "\n",
    "print(X)\n",
    "print(y)"
   ]
  },
  {
   "cell_type": "code",
   "execution_count": null,
   "id": "cd4512c4",
   "metadata": {},
   "outputs": [],
   "source": [
    "import pandas\n",
    "from sklearn import tree\n",
    "from sklearn.tree import DecisionTreeClassifier\n",
    "import matplotlib.pyplot as plt\n",
    "\n",
    "df = pandas.read_csv(\"dataTree1.csv\")\n",
    "\n",
    "d = {'UK': 0, 'USA': 1, 'N': 2}\n",
    "df['Nationality'] = df['Nationality'].map(d)\n",
    "d = {'YES': 1, 'NO': 0}\n",
    "df['Go'] = df['Go'].map(d)\n",
    "\n",
    "features = ['Age', 'Experience', 'Rank', 'Nationality']\n",
    "print(features)\n",
    "X = df[features]\n",
    "y = df['Go']\n",
    "\n",
    "dtree = DecisionTreeClassifier(criterion='gini')\n",
    "dtree = dtree.fit(X, y)\n",
    "\n",
    "tree.plot_tree(dtree, feature_names=features)"
   ]
  },
  {
   "cell_type": "code",
   "execution_count": null,
   "id": "00abef06",
   "metadata": {},
   "outputs": [],
   "source": [
    "# 7. Run Code above\n",
    "# 8. Check GINI value with Maths Calculation in an Excel Workbook\n",
    "# 9. Change Gini to Entropy anc check calculation\n",
    "# 10. Change different parameters and study the impact"
   ]
  },
  {
   "cell_type": "code",
   "execution_count": null,
   "id": "9f90fec5",
   "metadata": {},
   "outputs": [],
   "source": [
    "print(dtree.predict([[47, 12, 4, 0]]))"
   ]
  },
  {
   "cell_type": "code",
   "execution_count": null,
   "id": "022a9b70",
   "metadata": {},
   "outputs": [],
   "source": [
    "print(dtree.predict([[40, 10, 6, 1]]))"
   ]
  },
  {
   "cell_type": "code",
   "execution_count": null,
   "id": "77c3340b",
   "metadata": {},
   "outputs": [],
   "source": [
    "#https://www.geeksforgeeks.org/decision-tree/"
   ]
  },
  {
   "cell_type": "code",
   "execution_count": null,
   "id": "1bf15f2b",
   "metadata": {},
   "outputs": [],
   "source": [
    "# Import the necessary libraries\n",
    "from sklearn.datasets import load_iris\n",
    "from sklearn import tree\n",
    "from sklearn.tree import DecisionTreeClassifier\n",
    "from sklearn.tree import export_graphviz\n",
    "from graphviz import Source\n",
    "\n",
    "# Load the dataset\n",
    "iris = load_iris()\n",
    "X = iris.data[:, 2:] # petal length and width\n",
    "y = iris.target\n",
    "features = ['Length', 'Width']\n",
    "# DecisionTreeClassifier\n",
    "tree_clf = DecisionTreeClassifier(criterion='entropy',\n",
    "\t\t\t\t\t\t\t\tmax_depth=2)\n",
    "tree_clf.fit(X, y)\n",
    "tree.plot_tree(tree_clf, feature_names=features)\n",
    "# # Plot the decision tree graph\n",
    "# export_graphviz(\n",
    "# \ttree_clf,\n",
    "# \tout_file=\"iris_tree.dot\",\n",
    "# \tfeature_names=iris.feature_names[2:],\n",
    "# \tclass_names=iris.target_names,\n",
    "# \trounded=True,\n",
    "# \tfilled=True\n",
    "# )\n",
    "\n",
    "# with open(\"iris_tree.dot\") as f:\n",
    "# \tdot_graph = f.read()\n",
    "\t\n",
    "# Source(dot_graph)\n"
   ]
  },
  {
   "cell_type": "code",
   "execution_count": null,
   "id": "c9952e0e",
   "metadata": {},
   "outputs": [],
   "source": [
    "# 11. Check IRIS dataset with Entropy\n",
    "# 12. Compare method we used in Excel and in Python for IRIS data\n",
    "# 13. Read about Decision Tree (share URL read). \n",
    "# Identify advantages and disadvantages\n",
    "# 14. Watch a video on Decision Tree(share URL)\n",
    "# Share some learnings\n",
    "# 15 Decision Tree can be viewed using plottree and graphviz .. Explore both methods"
   ]
  },
  {
   "cell_type": "code",
   "execution_count": null,
   "id": "1aaab5b0",
   "metadata": {},
   "outputs": [],
   "source": []
  }
 ],
 "metadata": {
  "kernelspec": {
   "display_name": "Python 3 (ipykernel)",
   "language": "python",
   "name": "python3"
  },
  "language_info": {
   "codemirror_mode": {
    "name": "ipython",
    "version": 3
   },
   "file_extension": ".py",
   "mimetype": "text/x-python",
   "name": "python",
   "nbconvert_exporter": "python",
   "pygments_lexer": "ipython3",
   "version": "3.10.11"
  }
 },
 "nbformat": 4,
 "nbformat_minor": 5
}
